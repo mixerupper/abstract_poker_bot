{
 "cells": [
  {
   "cell_type": "code",
   "execution_count": 57,
   "metadata": {},
   "outputs": [],
   "source": [
    "import sys\n",
    "sys.path.append(\"..\")\n",
    "import pickle"
   ]
  },
  {
   "cell_type": "code",
   "execution_count": 58,
   "metadata": {},
   "outputs": [],
   "source": [
    "from games.abstract_poker import AbstractPokerRootChanceGameState\n",
    "from games.algorithms import ChanceSamplingCFR, VanillaCFR\n",
    "from common.constants import card_dealing, results_map\n",
    "import numpy as np\n",
    "import pandas as pd\n",
    "\n",
    "from games.competition_abstract_poker import CompetitionAbstractPoker\n",
    "from copy import deepcopy"
   ]
  },
  {
   "cell_type": "code",
   "execution_count": 59,
   "metadata": {},
   "outputs": [],
   "source": [
    "# Hyperparameters\n",
    "_NUM_TRAIN_ITERS = 100_000\n",
    "_COMPETITION_ROUNDS = 100_000\n",
    "_RUN_SINGLE_EXAMPLE = True"
   ]
  },
  {
   "cell_type": "markdown",
   "metadata": {},
   "source": [
    "# Try single example"
   ]
  },
  {
   "cell_type": "code",
   "execution_count": 60,
   "metadata": {},
   "outputs": [
    {
     "name": "stdout",
     "output_type": "stream",
     "text": [
      "-------------------------------------------------------------------\n",
      "Player 0 with card 393 and self-estimated strength 2/5.\n",
      "Information set is .2.\n",
      "Action distribution was {'BET': 0.19775784769203267, 'CHECK_INITIATE': 0.8022421523079674}. Player chose BET.\n",
      "Current turn log is ['BET']. Current action log is [['BET']].\n",
      "['BET' 'FOLD']: 393.786 and 0.1\n",
      "Result is 0.1\n"
     ]
    }
   ],
   "source": [
    "if _RUN_SINGLE_EXAMPLE:\n",
    "    bots = []\n",
    "\n",
    "    root = AbstractPokerRootChanceGameState(max_hand_strength = 5, \n",
    "                                        max_turns = 2,\n",
    "                                        ante = 0.1,\n",
    "                                        report = False)\n",
    "    chance_sampling_cfr = ChanceSamplingCFR(root)\n",
    "    chance_sampling_cfr.run(iterations = 100)\n",
    "    chance_sampling_cfr.compute_nash_equilibrium()\n",
    "\n",
    "    bots.append(chance_sampling_cfr)\n",
    "\n",
    "    root = AbstractPokerRootChanceGameState(max_hand_strength = 3, \n",
    "                                        max_turns = 2,\n",
    "                                        ante = 0.1,\n",
    "                                        report = False)\n",
    "    chance_sampling_cfr = ChanceSamplingCFR(root)\n",
    "    chance_sampling_cfr.run(iterations = 100)\n",
    "    chance_sampling_cfr.compute_nash_equilibrium()\n",
    "\n",
    "    bots.append(chance_sampling_cfr)\n",
    "\n",
    "    results = []\n",
    "    rounds_per_competition = 1\n",
    "\n",
    "    c = CompetitionAbstractPoker(deepcopy(bots[0]), deepcopy(bots[1]), max_turns = 2, ante = 0.1, report = True)\n",
    "    result = c.compete(rounds = rounds_per_competition)\n",
    "    print(f\"Result is {result}\")"
   ]
  },
  {
   "cell_type": "markdown",
   "metadata": {},
   "source": [
    "# Granularity competition"
   ]
  },
  {
   "cell_type": "code",
   "execution_count": 61,
   "metadata": {},
   "outputs": [],
   "source": [
    "def train_bots_fixed_granularity_advantage(ante_list, granularity = [3,10], depth = 2, report = True):\n",
    "    bots_weak = []\n",
    "    bots_strong = []\n",
    "\n",
    "    for a in ante_list:\n",
    "        root = AbstractPokerRootChanceGameState(max_hand_strength = granularity[0], \n",
    "                                            max_turns = depth,\n",
    "                                            ante = a,\n",
    "                                            report = False)\n",
    "        chance_sampling_cfr = ChanceSamplingCFR(root)\n",
    "        chance_sampling_cfr.run(iterations = _NUM_TRAIN_ITERS)\n",
    "        chance_sampling_cfr.compute_nash_equilibrium()\n",
    "        bots_weak.append(chance_sampling_cfr)\n",
    "\n",
    "        # vanilla cfr\n",
    "        # vanilla_cfr_g3 = VanillaCFR(root)\n",
    "        # vanilla_cfr_g3.run(iterations = _NUM_TRAIN_ITERS)\n",
    "        # vanilla_cfr_g3.compute_nash_equilibrium()\n",
    "\n",
    "        root = AbstractPokerRootChanceGameState(max_hand_strength = granularity[1], \n",
    "                                            max_turns = depth,\n",
    "                                            ante = a,\n",
    "                                            report = False)\n",
    "        chance_sampling_cfr = ChanceSamplingCFR(root)\n",
    "        chance_sampling_cfr.run(iterations = _NUM_TRAIN_ITERS)\n",
    "        chance_sampling_cfr.compute_nash_equilibrium()\n",
    "        bots_strong.append(chance_sampling_cfr)\n",
    "        \n",
    "    if report:\n",
    "        print(\"------------------------------------------------------------\")\n",
    "        for b in bots_weak:\n",
    "            print(f\"Value of game for ante {b.root.ante}: {b.value_of_the_game():.5f}\")\n",
    "        \n",
    "    return bots_weak, bots_strong"
   ]
  },
  {
   "cell_type": "code",
   "execution_count": 62,
   "metadata": {},
   "outputs": [],
   "source": [
    "def train_bots_fixed_depth_advantage(ante_list, granularity = 5, depth = [1,3], report = True):\n",
    "    bots_weak = []\n",
    "    bots_strong = []\n",
    "\n",
    "    for a in ante_list:\n",
    "        root = AbstractPokerRootChanceGameState(max_hand_strength = granularity, \n",
    "                                            max_turns = depth[0],\n",
    "                                            ante = a,\n",
    "                                            report = False)\n",
    "        chance_sampling_cfr = ChanceSamplingCFR(root)\n",
    "        chance_sampling_cfr.run(iterations = _NUM_TRAIN_ITERS)\n",
    "        chance_sampling_cfr.compute_nash_equilibrium()\n",
    "        bots_weak.append(chance_sampling_cfr)\n",
    "\n",
    "        # vanilla cfr\n",
    "        # vanilla_cfr_g3 = VanillaCFR(root)\n",
    "        # vanilla_cfr_g3.run(iterations = _NUM_TRAIN_ITERS)\n",
    "        # vanilla_cfr_g3.compute_nash_equilibrium()\n",
    "\n",
    "        root = AbstractPokerRootChanceGameState(max_hand_strength = granularity, \n",
    "                                            max_turns = depth[1],\n",
    "                                            ante = a,\n",
    "                                            report = False)\n",
    "        chance_sampling_cfr = ChanceSamplingCFR(root)\n",
    "        chance_sampling_cfr.run(iterations = _NUM_TRAIN_ITERS)\n",
    "        chance_sampling_cfr.compute_nash_equilibrium()\n",
    "        bots_strong.append(chance_sampling_cfr)\n",
    "        \n",
    "    if report:\n",
    "        print(\"------------------------------------------------------------\")\n",
    "        for b in bots_weak:\n",
    "            print(f\"Value of game for ante {b.root.ante}: {b.value_of_the_game():.5f}\")\n",
    "        \n",
    "    return bots_weak, bots_strong"
   ]
  },
  {
   "cell_type": "markdown",
   "metadata": {},
   "source": [
    "## Train bots"
   ]
  },
  {
   "cell_type": "code",
   "execution_count": 63,
   "metadata": {},
   "outputs": [
    {
     "data": {
      "text/plain": [
       "[0.1,\n",
       " 0.2,\n",
       " 0.3,\n",
       " 0.4,\n",
       " 0.5,\n",
       " 0.6,\n",
       " 0.7,\n",
       " 0.8,\n",
       " 0.9,\n",
       " 1.0,\n",
       " 1.1,\n",
       " 1.2,\n",
       " 1.3,\n",
       " 1.4,\n",
       " 1.5,\n",
       " 1.6,\n",
       " 1.7,\n",
       " 1.8,\n",
       " 1.9,\n",
       " 2.0]"
      ]
     },
     "execution_count": 63,
     "metadata": {},
     "output_type": "execute_result"
    }
   ],
   "source": [
    "ante_list = [np.round(0.1*i,1) for i in range(1,21)]\n",
    "ante_list"
   ]
  },
  {
   "cell_type": "code",
   "execution_count": 64,
   "metadata": {},
   "outputs": [
    {
     "name": "stdout",
     "output_type": "stream",
     "text": [
      "------------------------------------------------------------\n",
      "Value of game for ante 0.1: 0.00002\n",
      "Value of game for ante 0.2: 0.00005\n",
      "Value of game for ante 0.3: -0.00003\n",
      "Value of game for ante 0.4: -0.01358\n",
      "Value of game for ante 0.5: -0.02901\n",
      "Value of game for ante 0.6: -0.03240\n",
      "Value of game for ante 0.7: -0.02847\n",
      "Value of game for ante 0.8: -0.02223\n",
      "Value of game for ante 0.9: -0.02092\n",
      "Value of game for ante 1.0: -0.02245\n",
      "Value of game for ante 1.1: -0.02840\n",
      "Value of game for ante 1.2: -0.03619\n",
      "Value of game for ante 1.3: -0.03868\n",
      "Value of game for ante 1.4: -0.04051\n",
      "Value of game for ante 1.5: -0.04296\n",
      "Value of game for ante 1.6: -0.04561\n",
      "Value of game for ante 1.7: -0.04661\n",
      "Value of game for ante 1.8: -0.04375\n",
      "Value of game for ante 1.9: -0.04331\n",
      "Value of game for ante 2.0: -0.04067\n"
     ]
    }
   ],
   "source": [
    "weak_granularity_bots, strong_granularity_bots = train_bots_fixed_granularity_advantage(ante_list = ante_list, \n",
    "                                                                                        granularity = [3,10], \n",
    "                                                                                        depth = 2)"
   ]
  },
  {
   "cell_type": "code",
   "execution_count": 65,
   "metadata": {},
   "outputs": [
    {
     "name": "stdout",
     "output_type": "stream",
     "text": [
      "------------------------------------------------------------\n",
      "Value of game for ante 0.1: -0.00005\n",
      "Value of game for ante 0.2: -0.01191\n",
      "Value of game for ante 0.3: -0.02141\n",
      "Value of game for ante 0.4: -0.02416\n",
      "Value of game for ante 0.5: -0.03120\n",
      "Value of game for ante 0.6: -0.04015\n",
      "Value of game for ante 0.7: -0.04863\n",
      "Value of game for ante 0.8: -0.04529\n",
      "Value of game for ante 0.9: -0.04444\n",
      "Value of game for ante 1.0: -0.04371\n",
      "Value of game for ante 1.1: -0.04404\n",
      "Value of game for ante 1.2: -0.04504\n",
      "Value of game for ante 1.3: -0.04693\n",
      "Value of game for ante 1.4: -0.04853\n",
      "Value of game for ante 1.5: -0.04995\n",
      "Value of game for ante 1.6: -0.05217\n",
      "Value of game for ante 1.7: -0.05051\n",
      "Value of game for ante 1.8: -0.04881\n",
      "Value of game for ante 1.9: -0.04617\n",
      "Value of game for ante 2.0: -0.04425\n"
     ]
    }
   ],
   "source": [
    "weak_depth_bots, strong_depth_bots = train_bots_fixed_depth_advantage(ante_list = ante_list, \n",
    "                                                                            granularity = 5, \n",
    "                                                                            depth = [1,3])"
   ]
  },
  {
   "cell_type": "code",
   "execution_count": 66,
   "metadata": {},
   "outputs": [],
   "source": [
    "# low_granularity_bots = train_bots_fixed_granularity(depth = [1,2], granularity = 3)\n",
    "# high_granularity_bots = train_bots_fixed_granularity(depth = [1,2], granularity = 10)"
   ]
  },
  {
   "cell_type": "markdown",
   "metadata": {},
   "source": [
    "## Competition"
   ]
  },
  {
   "cell_type": "code",
   "execution_count": 67,
   "metadata": {},
   "outputs": [],
   "source": [
    "def run_competition(weak_bots, strong_bots, rounds, report):\n",
    "    results = []\n",
    "    num_bots = len(weak_bots)\n",
    "\n",
    "    for i in range(num_bots):\n",
    "        b1 = weak_bots[i]\n",
    "        b2 = strong_bots[i]\n",
    "        \n",
    "        g1 = b1.root.max_hand_strength\n",
    "        g2 = b2.root.max_hand_strength\n",
    "\n",
    "        d1 = b1.root.max_turns\n",
    "        d2 = b2.root.max_turns\n",
    "        game_depth = max(d1,d2)\n",
    "\n",
    "        ante = b1.root.ante\n",
    "\n",
    "        c = CompetitionAbstractPoker(deepcopy(b1), deepcopy(b2), max_turns = game_depth, \n",
    "                                    ante = ante, report = False)\n",
    "        result = c.compete(rounds = rounds)\n",
    "        results.append([g1,g2,d1,d2,game_depth,ante,result])\n",
    "\n",
    "        if report:\n",
    "            print(f\"{d1} vs {d2}. Game granularity {g1}. Ante {ante}. Result is {result}\")\n",
    "                \n",
    "    return results"
   ]
  },
  {
   "cell_type": "code",
   "execution_count": 68,
   "metadata": {},
   "outputs": [
    {
     "name": "stdout",
     "output_type": "stream",
     "text": [
      "2 vs 2. Game granularity 3. Ante 0.1. Result is -0.0052910000000015705\n",
      "2 vs 2. Game granularity 3. Ante 0.2. Result is -0.019254000000006082\n",
      "2 vs 2. Game granularity 3. Ante 0.3. Result is -0.0220459999999944\n",
      "2 vs 2. Game granularity 3. Ante 0.4. Result is -0.028324000000012242\n",
      "2 vs 2. Game granularity 3. Ante 0.5. Result is -0.04387\n",
      "2 vs 2. Game granularity 3. Ante 0.6. Result is -0.053396000000002934\n",
      "2 vs 2. Game granularity 3. Ante 0.7. Result is -0.057911999999994926\n",
      "2 vs 2. Game granularity 3. Ante 0.8. Result is -0.06291600000000705\n",
      "2 vs 2. Game granularity 3. Ante 0.9. Result is -0.05492399999999568\n",
      "2 vs 2. Game granularity 3. Ante 1.0. Result is -0.06381\n",
      "2 vs 2. Game granularity 3. Ante 1.1. Result is -0.07807400000001702\n",
      "2 vs 2. Game granularity 3. Ante 1.2. Result is -0.057497999999991216\n",
      "2 vs 2. Game granularity 3. Ante 1.3. Result is -0.07498700000000666\n",
      "2 vs 2. Game granularity 3. Ante 1.4. Result is -0.07405599999999359\n",
      "2 vs 2. Game granularity 3. Ante 1.5. Result is -0.074835\n",
      "2 vs 2. Game granularity 3. Ante 1.6. Result is -0.0806920000000037\n",
      "2 vs 2. Game granularity 3. Ante 1.7. Result is -0.08820699999999984\n",
      "2 vs 2. Game granularity 3. Ante 1.8. Result is -0.07413799999999902\n",
      "2 vs 2. Game granularity 3. Ante 1.9. Result is -0.09867600000000055\n",
      "2 vs 2. Game granularity 3. Ante 2.0. Result is -0.08859\n"
     ]
    }
   ],
   "source": [
    "granularity_advantage_competition = run_competition(weak_granularity_bots, \n",
    "                                                    strong_granularity_bots,\n",
    "                                                    rounds = _COMPETITION_ROUNDS, report = True)"
   ]
  },
  {
   "cell_type": "code",
   "execution_count": 69,
   "metadata": {},
   "outputs": [
    {
     "name": "stdout",
     "output_type": "stream",
     "text": [
      "1 vs 3. Game granularity 5. Ante 0.1. Result is -0.0003740000000000029\n",
      "1 vs 3. Game granularity 5. Ante 0.2. Result is -0.010862000000003088\n",
      "1 vs 3. Game granularity 5. Ante 0.3. Result is -0.026597999999998338\n",
      "1 vs 3. Game granularity 5. Ante 0.4. Result is -0.03168400000000173\n",
      "1 vs 3. Game granularity 5. Ante 0.5. Result is -0.059865\n",
      "1 vs 3. Game granularity 5. Ante 0.6. Result is -0.06166000000000754\n",
      "1 vs 3. Game granularity 5. Ante 0.7. Result is -0.08969099999999611\n",
      "1 vs 3. Game granularity 5. Ante 0.8. Result is -0.06395199999999102\n",
      "1 vs 3. Game granularity 5. Ante 0.9. Result is -0.07479800000000611\n",
      "1 vs 3. Game granularity 5. Ante 1.0. Result is -0.08866\n",
      "1 vs 3. Game granularity 5. Ante 1.1. Result is -0.10196399999999715\n",
      "1 vs 3. Game granularity 5. Ante 1.2. Result is -0.08876600000000237\n",
      "1 vs 3. Game granularity 5. Ante 1.3. Result is -0.1114529999999996\n",
      "1 vs 3. Game granularity 5. Ante 1.4. Result is -0.09224999999999764\n",
      "1 vs 3. Game granularity 5. Ante 1.5. Result is -0.085665\n",
      "1 vs 3. Game granularity 5. Ante 1.6. Result is -0.09433600000000421\n",
      "1 vs 3. Game granularity 5. Ante 1.7. Result is -0.11415299999999068\n",
      "1 vs 3. Game granularity 5. Ante 1.8. Result is -0.10283800000000483\n",
      "1 vs 3. Game granularity 5. Ante 1.9. Result is -0.10880700000000994\n",
      "1 vs 3. Game granularity 5. Ante 2.0. Result is -0.11702\n"
     ]
    }
   ],
   "source": [
    "depth_advantage_competition = run_competition(weak_depth_bots, \n",
    "                                              strong_depth_bots,\n",
    "                                              rounds = _COMPETITION_ROUNDS, report = True)"
   ]
  },
  {
   "cell_type": "markdown",
   "metadata": {},
   "source": [
    "# Export results "
   ]
  },
  {
   "cell_type": "code",
   "execution_count": 70,
   "metadata": {},
   "outputs": [],
   "source": [
    "granularity_advantage_df = pd.DataFrame(granularity_advantage_competition, columns = ['player1_granularity', 'player2_granularity', \n",
    "                                                                          'player1_depth', 'player2_depth',\n",
    "                                                                          'game_depth', 'ante', 'result'])\n",
    "depth_advantage_df = pd.DataFrame(depth_advantage_competition, columns = ['player1_granularity', 'player2_granularity', \n",
    "                                                                          'player1_depth', 'player2_depth',\n",
    "                                                                          'game_depth', 'ante', 'result'])"
   ]
  },
  {
   "cell_type": "code",
   "execution_count": 71,
   "metadata": {},
   "outputs": [],
   "source": [
    "results_df = pd.concat([granularity_advantage_df, depth_advantage_df], ignore_index = True)"
   ]
  },
  {
   "cell_type": "code",
   "execution_count": 72,
   "metadata": {},
   "outputs": [
    {
     "data": {
      "text/html": [
       "<div>\n",
       "<style scoped>\n",
       "    .dataframe tbody tr th:only-of-type {\n",
       "        vertical-align: middle;\n",
       "    }\n",
       "\n",
       "    .dataframe tbody tr th {\n",
       "        vertical-align: top;\n",
       "    }\n",
       "\n",
       "    .dataframe thead th {\n",
       "        text-align: right;\n",
       "    }\n",
       "</style>\n",
       "<table border=\"1\" class=\"dataframe\">\n",
       "  <thead>\n",
       "    <tr style=\"text-align: right;\">\n",
       "      <th></th>\n",
       "      <th>player1_granularity</th>\n",
       "      <th>player2_granularity</th>\n",
       "      <th>player1_depth</th>\n",
       "      <th>player2_depth</th>\n",
       "      <th>game_depth</th>\n",
       "      <th>ante</th>\n",
       "      <th>result</th>\n",
       "    </tr>\n",
       "  </thead>\n",
       "  <tbody>\n",
       "    <tr>\n",
       "      <th>0</th>\n",
       "      <td>3</td>\n",
       "      <td>10</td>\n",
       "      <td>2</td>\n",
       "      <td>2</td>\n",
       "      <td>2</td>\n",
       "      <td>0.1</td>\n",
       "      <td>-0.005291</td>\n",
       "    </tr>\n",
       "    <tr>\n",
       "      <th>1</th>\n",
       "      <td>3</td>\n",
       "      <td>10</td>\n",
       "      <td>2</td>\n",
       "      <td>2</td>\n",
       "      <td>2</td>\n",
       "      <td>0.2</td>\n",
       "      <td>-0.019254</td>\n",
       "    </tr>\n",
       "    <tr>\n",
       "      <th>2</th>\n",
       "      <td>3</td>\n",
       "      <td>10</td>\n",
       "      <td>2</td>\n",
       "      <td>2</td>\n",
       "      <td>2</td>\n",
       "      <td>0.3</td>\n",
       "      <td>-0.022046</td>\n",
       "    </tr>\n",
       "  </tbody>\n",
       "</table>\n",
       "</div>"
      ],
      "text/plain": [
       "   player1_granularity  player2_granularity  player1_depth  player2_depth  \\\n",
       "0                    3                   10              2              2   \n",
       "1                    3                   10              2              2   \n",
       "2                    3                   10              2              2   \n",
       "\n",
       "   game_depth  ante    result  \n",
       "0           2   0.1 -0.005291  \n",
       "1           2   0.2 -0.019254  \n",
       "2           2   0.3 -0.022046  "
      ]
     },
     "execution_count": 72,
     "metadata": {},
     "output_type": "execute_result"
    }
   ],
   "source": [
    "results_df.head(3)"
   ]
  },
  {
   "cell_type": "code",
   "execution_count": 73,
   "metadata": {},
   "outputs": [],
   "source": [
    "results_df.to_csv(\"output/advantages_by_ante.csv\", index = False)"
   ]
  }
 ],
 "metadata": {
  "kernelspec": {
   "display_name": "Python 3 (ipykernel)",
   "language": "python",
   "name": "python3"
  },
  "language_info": {
   "codemirror_mode": {
    "name": "ipython",
    "version": 3
   },
   "file_extension": ".py",
   "mimetype": "text/x-python",
   "name": "python",
   "nbconvert_exporter": "python",
   "pygments_lexer": "ipython3",
   "version": "3.9.13"
  },
  "toc": {
   "base_numbering": 1,
   "nav_menu": {},
   "number_sections": true,
   "sideBar": true,
   "skip_h1_title": false,
   "title_cell": "Table of Contents",
   "title_sidebar": "Contents",
   "toc_cell": false,
   "toc_position": {
    "height": "calc(100% - 180px)",
    "left": "10px",
    "top": "150px",
    "width": "294.4px"
   },
   "toc_section_display": true,
   "toc_window_display": true
  }
 },
 "nbformat": 4,
 "nbformat_minor": 2
}
