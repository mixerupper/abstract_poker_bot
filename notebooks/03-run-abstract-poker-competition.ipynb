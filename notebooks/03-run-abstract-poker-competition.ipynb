{
 "cells": [
  {
   "cell_type": "code",
   "execution_count": 1,
   "metadata": {},
   "outputs": [],
   "source": [
    "import sys\n",
    "sys.path.append(\"..\")\n",
    "import pickle"
   ]
  },
  {
   "cell_type": "code",
   "execution_count": 2,
   "metadata": {},
   "outputs": [],
   "source": [
    "from games.abstract_poker import AbstractPokerRootChanceGameState\n",
    "from games.algorithms import ChanceSamplingCFR, VanillaCFR\n",
    "from common.constants import card_dealing, results_map\n",
    "import numpy as np\n",
    "import pandas as pd"
   ]
  },
  {
   "cell_type": "code",
   "execution_count": 3,
   "metadata": {},
   "outputs": [],
   "source": [
    "# Hyperparameters\n",
    "# _MAX_HAND_STRENGTH = 3\n",
    "_MAX_TURNS = 2\n",
    "_NUM_TRAIN_ITERS = 50_000"
   ]
  },
  {
   "cell_type": "code",
   "execution_count": 67,
   "metadata": {},
   "outputs": [],
   "source": [
    "# card_dealing(_MAX_HAND_STRENGTH)"
   ]
  },
  {
   "cell_type": "markdown",
   "metadata": {},
   "source": [
    "# Train"
   ]
  },
  {
   "cell_type": "code",
   "execution_count": 68,
   "metadata": {},
   "outputs": [],
   "source": [
    "bots = []\n",
    "\n",
    "for i in range(2,11):\n",
    "    root = AbstractPokerRootChanceGameState(max_hand_strength = i, \n",
    "                                        max_turns = _MAX_TURNS,\n",
    "                                        report = False)\n",
    "    chance_sampling_cfr = ChanceSamplingCFR(root)\n",
    "    chance_sampling_cfr.run(iterations = _NUM_TRAIN_ITERS)\n",
    "    chance_sampling_cfr.compute_nash_equilibrium()\n",
    "\n",
    "    # vanilla cfr\n",
    "#     vanilla_cfr_g3 = VanillaCFR(root)\n",
    "#     vanilla_cfr_g3.run(iterations = _NUM_TRAIN_ITERS)\n",
    "#     vanilla_cfr_g3.compute_nash_equilibrium()\n",
    "\n",
    "    bots.append(chance_sampling_cfr)"
   ]
  },
  {
   "cell_type": "code",
   "execution_count": 80,
   "metadata": {},
   "outputs": [
    {
     "name": "stdout",
     "output_type": "stream",
     "text": [
      "Value of game for granularity 2: -0.00022\n",
      "Value of game for granularity 3: -0.02202\n",
      "Value of game for granularity 4: -0.04648\n",
      "Value of game for granularity 5: -0.03589\n",
      "Value of game for granularity 6: -0.04565\n",
      "Value of game for granularity 7: -0.05528\n",
      "Value of game for granularity 8: -0.04921\n",
      "Value of game for granularity 9: -0.05261\n",
      "Value of game for granularity 10: -0.05370\n"
     ]
    }
   ],
   "source": [
    "for b in bots:\n",
    "    print(f\"Value of game for granularity {b.root.max_hand_strength}: {b.value_of_the_game():.5f}\")"
   ]
  },
  {
   "cell_type": "markdown",
   "metadata": {},
   "source": [
    "# Competition"
   ]
  },
  {
   "cell_type": "code",
   "execution_count": 71,
   "metadata": {},
   "outputs": [],
   "source": [
    "from games.competition_abstract_poker import CompetitionAbstractPoker\n",
    "from copy import deepcopy"
   ]
  },
  {
   "cell_type": "code",
   "execution_count": 73,
   "metadata": {},
   "outputs": [
    {
     "data": {
      "text/plain": [
       "2"
      ]
     },
     "execution_count": 73,
     "metadata": {},
     "output_type": "execute_result"
    }
   ],
   "source": [
    "bots[0].root.max_hand_strength"
   ]
  },
  {
   "cell_type": "code",
   "execution_count": 81,
   "metadata": {},
   "outputs": [
    {
     "name": "stdout",
     "output_type": "stream",
     "text": [
      "2 vs 2. Result is -632\n",
      "2 vs 3. Result is -5369\n",
      "2 vs 4. Result is -6321\n",
      "2 vs 5. Result is -7475\n",
      "2 vs 6. Result is -4643\n",
      "2 vs 7. Result is -5490\n",
      "2 vs 8. Result is -7554\n",
      "2 vs 9. Result is -8497\n",
      "2 vs 10. Result is -8463\n",
      "3 vs 2. Result is 1684\n",
      "3 vs 3. Result is -4996\n",
      "3 vs 4. Result is -7330\n",
      "3 vs 5. Result is -5720\n",
      "3 vs 6. Result is -6747\n",
      "3 vs 7. Result is -7406\n",
      "3 vs 8. Result is -6316\n",
      "3 vs 9. Result is -7909\n",
      "3 vs 10. Result is -5913\n",
      "4 vs 2. Result is 2433\n",
      "4 vs 3. Result is -5398\n",
      "4 vs 4. Result is -7297\n",
      "4 vs 5. Result is -5995\n",
      "4 vs 6. Result is -7861\n",
      "4 vs 7. Result is -7731\n",
      "4 vs 8. Result is -7825\n",
      "4 vs 9. Result is -8988\n",
      "4 vs 10. Result is -7735\n",
      "5 vs 2. Result is 3752\n",
      "5 vs 3. Result is -3814\n",
      "5 vs 4. Result is -4396\n",
      "5 vs 5. Result is -4237\n",
      "5 vs 6. Result is -4756\n",
      "5 vs 7. Result is -4844\n",
      "5 vs 8. Result is -5698\n",
      "5 vs 9. Result is -5231\n",
      "5 vs 10. Result is -3933\n",
      "6 vs 2. Result is 403\n",
      "6 vs 3. Result is -2898\n",
      "6 vs 4. Result is -7081\n",
      "6 vs 5. Result is -5471\n",
      "6 vs 6. Result is -6009\n",
      "6 vs 7. Result is -7253\n",
      "6 vs 8. Result is -6029\n",
      "6 vs 9. Result is -6104\n",
      "6 vs 10. Result is -6256\n",
      "7 vs 2. Result is 1239\n",
      "7 vs 3. Result is -5140\n",
      "7 vs 4. Result is -5418\n",
      "7 vs 5. Result is -4714\n",
      "7 vs 6. Result is -7382\n",
      "7 vs 7. Result is -6417\n",
      "7 vs 8. Result is -5724\n",
      "7 vs 9. Result is -6071\n",
      "7 vs 10. Result is -5544\n",
      "8 vs 2. Result is 2866\n",
      "8 vs 3. Result is -3671\n",
      "8 vs 4. Result is -5473\n",
      "8 vs 5. Result is -4382\n",
      "8 vs 6. Result is -6606\n",
      "8 vs 7. Result is -5310\n",
      "8 vs 8. Result is -5260\n",
      "8 vs 9. Result is -6078\n",
      "8 vs 10. Result is -3951\n",
      "9 vs 2. Result is 2106\n",
      "9 vs 3. Result is -4472\n",
      "9 vs 4. Result is -4345\n",
      "9 vs 5. Result is -3520\n",
      "9 vs 6. Result is -5211\n",
      "9 vs 7. Result is -4929\n",
      "9 vs 8. Result is -5510\n",
      "9 vs 9. Result is -5424\n",
      "9 vs 10. Result is -3431\n",
      "10 vs 2. Result is 2236\n",
      "10 vs 3. Result is -4252\n",
      "10 vs 4. Result is -4786\n",
      "10 vs 5. Result is -2891\n",
      "10 vs 6. Result is -6879\n",
      "10 vs 7. Result is -7084\n",
      "10 vs 8. Result is -5391\n",
      "10 vs 9. Result is -6749\n",
      "10 vs 10. Result is -5052\n"
     ]
    }
   ],
   "source": [
    "results = []\n",
    "rounds_per_competition = 100_000\n",
    "\n",
    "for b1 in bots:\n",
    "    for b2 in bots:\n",
    "        g1 = b1.root.max_hand_strength\n",
    "        g2 = b2.root.max_hand_strength\n",
    "        c = CompetitionAbstractPoker(deepcopy(b1), deepcopy(b2), report = False)\n",
    "        result = c.compete(rounds = rounds_per_competition)\n",
    "        results.append([g1,g2,result])\n",
    "        print(f\"{g1} vs {g2}. Result is {result}\")"
   ]
  },
  {
   "cell_type": "code",
   "execution_count": 83,
   "metadata": {},
   "outputs": [],
   "source": [
    "results_df = pd.DataFrame(results, columns = ['player1', 'player2', 'result'])\\\n",
    "    .assign(total_rounds = rounds_per_competition)"
   ]
  },
  {
   "cell_type": "code",
   "execution_count": 86,
   "metadata": {},
   "outputs": [
    {
     "data": {
      "text/html": [
       "<div>\n",
       "<style scoped>\n",
       "    .dataframe tbody tr th:only-of-type {\n",
       "        vertical-align: middle;\n",
       "    }\n",
       "\n",
       "    .dataframe tbody tr th {\n",
       "        vertical-align: top;\n",
       "    }\n",
       "\n",
       "    .dataframe thead th {\n",
       "        text-align: right;\n",
       "    }\n",
       "</style>\n",
       "<table border=\"1\" class=\"dataframe\">\n",
       "  <thead>\n",
       "    <tr style=\"text-align: right;\">\n",
       "      <th></th>\n",
       "      <th>player1</th>\n",
       "      <th>player2</th>\n",
       "      <th>result</th>\n",
       "      <th>total_rounds</th>\n",
       "    </tr>\n",
       "  </thead>\n",
       "  <tbody>\n",
       "    <tr>\n",
       "      <th>0</th>\n",
       "      <td>2</td>\n",
       "      <td>2</td>\n",
       "      <td>-632</td>\n",
       "      <td>100000</td>\n",
       "    </tr>\n",
       "    <tr>\n",
       "      <th>1</th>\n",
       "      <td>2</td>\n",
       "      <td>3</td>\n",
       "      <td>-5369</td>\n",
       "      <td>100000</td>\n",
       "    </tr>\n",
       "    <tr>\n",
       "      <th>2</th>\n",
       "      <td>2</td>\n",
       "      <td>4</td>\n",
       "      <td>-6321</td>\n",
       "      <td>100000</td>\n",
       "    </tr>\n",
       "    <tr>\n",
       "      <th>3</th>\n",
       "      <td>2</td>\n",
       "      <td>5</td>\n",
       "      <td>-7475</td>\n",
       "      <td>100000</td>\n",
       "    </tr>\n",
       "    <tr>\n",
       "      <th>4</th>\n",
       "      <td>2</td>\n",
       "      <td>6</td>\n",
       "      <td>-4643</td>\n",
       "      <td>100000</td>\n",
       "    </tr>\n",
       "    <tr>\n",
       "      <th>...</th>\n",
       "      <td>...</td>\n",
       "      <td>...</td>\n",
       "      <td>...</td>\n",
       "      <td>...</td>\n",
       "    </tr>\n",
       "    <tr>\n",
       "      <th>76</th>\n",
       "      <td>10</td>\n",
       "      <td>6</td>\n",
       "      <td>-6879</td>\n",
       "      <td>100000</td>\n",
       "    </tr>\n",
       "    <tr>\n",
       "      <th>77</th>\n",
       "      <td>10</td>\n",
       "      <td>7</td>\n",
       "      <td>-7084</td>\n",
       "      <td>100000</td>\n",
       "    </tr>\n",
       "    <tr>\n",
       "      <th>78</th>\n",
       "      <td>10</td>\n",
       "      <td>8</td>\n",
       "      <td>-5391</td>\n",
       "      <td>100000</td>\n",
       "    </tr>\n",
       "    <tr>\n",
       "      <th>79</th>\n",
       "      <td>10</td>\n",
       "      <td>9</td>\n",
       "      <td>-6749</td>\n",
       "      <td>100000</td>\n",
       "    </tr>\n",
       "    <tr>\n",
       "      <th>80</th>\n",
       "      <td>10</td>\n",
       "      <td>10</td>\n",
       "      <td>-5052</td>\n",
       "      <td>100000</td>\n",
       "    </tr>\n",
       "  </tbody>\n",
       "</table>\n",
       "<p>81 rows × 4 columns</p>\n",
       "</div>"
      ],
      "text/plain": [
       "    player1  player2  result  total_rounds\n",
       "0         2        2    -632        100000\n",
       "1         2        3   -5369        100000\n",
       "2         2        4   -6321        100000\n",
       "3         2        5   -7475        100000\n",
       "4         2        6   -4643        100000\n",
       "..      ...      ...     ...           ...\n",
       "76       10        6   -6879        100000\n",
       "77       10        7   -7084        100000\n",
       "78       10        8   -5391        100000\n",
       "79       10        9   -6749        100000\n",
       "80       10       10   -5052        100000\n",
       "\n",
       "[81 rows x 4 columns]"
      ]
     },
     "execution_count": 86,
     "metadata": {},
     "output_type": "execute_result"
    }
   ],
   "source": [
    "results_df"
   ]
  },
  {
   "cell_type": "code",
   "execution_count": 84,
   "metadata": {},
   "outputs": [],
   "source": [
    "results_df.to_csv(\"bot_competition_by_granularity.csv\")"
   ]
  }
 ],
 "metadata": {
  "kernelspec": {
   "display_name": "Python 3 (ipykernel)",
   "language": "python",
   "name": "python3"
  },
  "language_info": {
   "codemirror_mode": {
    "name": "ipython",
    "version": 3
   },
   "file_extension": ".py",
   "mimetype": "text/x-python",
   "name": "python",
   "nbconvert_exporter": "python",
   "pygments_lexer": "ipython3",
   "version": "3.9.13"
  },
  "toc": {
   "base_numbering": 1,
   "nav_menu": {},
   "number_sections": true,
   "sideBar": true,
   "skip_h1_title": false,
   "title_cell": "Table of Contents",
   "title_sidebar": "Contents",
   "toc_cell": false,
   "toc_position": {},
   "toc_section_display": true,
   "toc_window_display": true
  }
 },
 "nbformat": 4,
 "nbformat_minor": 2
}
