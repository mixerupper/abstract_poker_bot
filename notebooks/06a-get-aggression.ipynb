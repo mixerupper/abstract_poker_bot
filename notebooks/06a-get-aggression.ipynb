{
 "cells": [
  {
   "cell_type": "code",
   "execution_count": 4,
   "metadata": {},
   "outputs": [],
   "source": [
    "import sys\n",
    "sys.path.append(\"..\")\n",
    "import pickle"
   ]
  },
  {
   "cell_type": "code",
   "execution_count": 5,
   "metadata": {},
   "outputs": [],
   "source": [
    "from games.abstract_poker import AbstractPokerRootChanceGameState\n",
    "from games.algorithms import ChanceSamplingCFR, VanillaCFR\n",
    "from common.constants import card_dealing, results_map\n",
    "import numpy as np\n",
    "import pandas as pd\n",
    "\n",
    "from games.competition_abstract_poker import CompetitionAbstractPoker\n",
    "from copy import deepcopy"
   ]
  },
  {
   "cell_type": "code",
   "execution_count": 6,
   "metadata": {},
   "outputs": [],
   "source": [
    "# Hyperparameters\n",
    "_NUM_TRAIN_ITERS = 1_000\n",
    "_COMPETITION_ROUNDS = 1_000\n",
    "_RUN_SINGLE_EXAMPLE = True"
   ]
  },
  {
   "cell_type": "markdown",
   "metadata": {},
   "source": [
    "# Try single example"
   ]
  },
  {
   "cell_type": "code",
   "execution_count": 18,
   "metadata": {},
   "outputs": [
    {
     "name": "stdout",
     "output_type": "stream",
     "text": [
      "Bet probability as 1st player for hand strength 1/5 is 0.0931013431013431\n",
      "Bet probability as 2nd player for hand strength 1/5 is 0.03571428571428571\n",
      "Bet probability as 1st player for hand strength 2/5 is 0.2433451827367531\n",
      "Bet probability as 2nd player for hand strength 2/5 is 0.05555555555555555\n",
      "Bet probability as 1st player for hand strength 3/5 is 0.19643287539166063\n",
      "Bet probability as 2nd player for hand strength 3/5 is 0.1387600732800005\n",
      "Bet probability as 1st player for hand strength 4/5 is 0.18665169200457501\n",
      "Bet probability as 2nd player for hand strength 4/5 is 0.23765204699105924\n",
      "Bet probability as 1st player for hand strength 5/5 is 0.5613322544798371\n",
      "Bet probability as 2nd player for hand strength 5/5 is 0.06818181818181818\n"
     ]
    }
   ],
   "source": [
    "root = AbstractPokerRootChanceGameState(max_hand_strength = 5, \n",
    "                                    max_turns = 2,\n",
    "                                    ante = 0.1,\n",
    "                                    report = False)\n",
    "bot = ChanceSamplingCFR(root)\n",
    "bot.run(iterations = 100)\n",
    "bot.compute_nash_equilibrium()\n",
    "\n",
    "max_strength = bot.root.max_hand_strength\n",
    "\n",
    "for i in range(max_strength):\n",
    "    p1 = chance_sampling_cfr.nash_equilibrium[f'.{i+1}.']['BET']\n",
    "    p2 = chance_sampling_cfr.nash_equilibrium[f'.{i+1}.CHECK_INITIATE']['BET']\n",
    "    print(f\"Bet probability as 1st player for hand strength {i+1}/{max_strength} is {p1}\")\n",
    "    print(f\"Bet probability as 2nd player for hand strength {i+1}/{max_strength} is {p2}\")"
   ]
  },
  {
   "cell_type": "markdown",
   "metadata": {},
   "source": [
    "# Granularity competition"
   ]
  },
  {
   "cell_type": "code",
   "execution_count": 23,
   "metadata": {},
   "outputs": [],
   "source": [
    "def train_bots_fixed_depth(granularity, depth = 2, report = True):\n",
    "    bots = []\n",
    "\n",
    "    for g in granularity:\n",
    "        root = AbstractPokerRootChanceGameState(max_hand_strength = g, \n",
    "                                            max_turns = depth,\n",
    "                                            report = False)\n",
    "        chance_sampling_cfr = ChanceSamplingCFR(root)\n",
    "        chance_sampling_cfr.run(iterations = _NUM_TRAIN_ITERS)\n",
    "        chance_sampling_cfr.compute_nash_equilibrium()\n",
    "        bots.append(chance_sampling_cfr)\n",
    "        \n",
    "    if report:\n",
    "        print(\"------------------------------------------------------------\")\n",
    "        for b in bots:\n",
    "            print(f\"Value of game: {b.value_of_the_game():.5f}\")\n",
    "        \n",
    "    return bots"
   ]
  },
  {
   "cell_type": "code",
   "execution_count": 24,
   "metadata": {},
   "outputs": [],
   "source": [
    "def train_bots_fixed_granularity(depth, granularity = 5, report = True):\n",
    "    bots = []\n",
    "\n",
    "    for d in depth:\n",
    "        root = AbstractPokerRootChanceGameState(max_hand_strength = granularity, \n",
    "                                            max_turns = d,\n",
    "                                            report = False)\n",
    "        chance_sampling_cfr = ChanceSamplingCFR(root)\n",
    "        chance_sampling_cfr.run(iterations = _NUM_TRAIN_ITERS)\n",
    "        chance_sampling_cfr.compute_nash_equilibrium()\n",
    "        bots.append(chance_sampling_cfr)\n",
    "        \n",
    "    if report:\n",
    "        print(\"------------------------------------------------------------\")\n",
    "        for b in bots:\n",
    "            print(f\"Value of game: {b.value_of_the_game():.5f}\")\n",
    "        \n",
    "    return bots"
   ]
  },
  {
   "cell_type": "markdown",
   "metadata": {},
   "source": [
    "## Train static bots"
   ]
  },
  {
   "cell_type": "code",
   "execution_count": 25,
   "metadata": {},
   "outputs": [
    {
     "name": "stdout",
     "output_type": "stream",
     "text": [
      "------------------------------------------------------------\n",
      "Value of game: -0.03539\n",
      "Value of game: -0.07604\n",
      "Value of game: -0.04785\n",
      "Value of game: -0.04393\n"
     ]
    }
   ],
   "source": [
    "ante_list = [np.round(0.2*i,1) for i in range(1,11)]\n",
    "granularity_bots = train_bots_fixed_depth(granularity = [3,5,7,10], depth = 2)"
   ]
  },
  {
   "cell_type": "code",
   "execution_count": 28,
   "metadata": {},
   "outputs": [
    {
     "name": "stdout",
     "output_type": "stream",
     "text": [
      "------------------------------------------------------------\n",
      "Value of game: -0.03842\n",
      "Value of game: -0.02570\n",
      "Value of game: -0.06576\n"
     ]
    }
   ],
   "source": [
    "depth_bots = train_bots_fixed_granularity(granularity = 5, depth = [1,2,3])"
   ]
  },
  {
   "cell_type": "markdown",
   "metadata": {},
   "source": [
    "# Get strategies"
   ]
  },
  {
   "cell_type": "code",
   "execution_count": 49,
   "metadata": {},
   "outputs": [],
   "source": [
    "def get_aggression(bots):\n",
    "    results = []\n",
    "    \n",
    "    for b in bots:\n",
    "        g = b.root.max_hand_strength\n",
    "        d = b.root.max_turns\n",
    "        \n",
    "        for i in range(1,g+1):\n",
    "            p1 = b.nash_equilibrium[f'.{i}.']['BET']\n",
    "            p2 = b.nash_equilibrium[f'.{i}.CHECK_INITIATE']['BET']\n",
    "            results.append([g,d,i,p1,p2])\n",
    "            \n",
    "    return results"
   ]
  },
  {
   "cell_type": "code",
   "execution_count": 50,
   "metadata": {},
   "outputs": [],
   "source": [
    "all_bots = granularity_bots + depth_bots"
   ]
  },
  {
   "cell_type": "code",
   "execution_count": 51,
   "metadata": {},
   "outputs": [],
   "source": [
    "aggressiveness = get_aggression(all_bots)"
   ]
  },
  {
   "cell_type": "markdown",
   "metadata": {},
   "source": [
    "# Export results "
   ]
  },
  {
   "cell_type": "code",
   "execution_count": 52,
   "metadata": {},
   "outputs": [],
   "source": [
    "results_df = pd.DataFrame(aggressiveness, columns = ['granularity', 'depth', 'hand_strength',\n",
    "                                                            'intial_bet', 'bet_after_check'])"
   ]
  },
  {
   "cell_type": "code",
   "execution_count": 53,
   "metadata": {},
   "outputs": [
    {
     "data": {
      "text/html": [
       "<div>\n",
       "<style scoped>\n",
       "    .dataframe tbody tr th:only-of-type {\n",
       "        vertical-align: middle;\n",
       "    }\n",
       "\n",
       "    .dataframe tbody tr th {\n",
       "        vertical-align: top;\n",
       "    }\n",
       "\n",
       "    .dataframe thead th {\n",
       "        text-align: right;\n",
       "    }\n",
       "</style>\n",
       "<table border=\"1\" class=\"dataframe\">\n",
       "  <thead>\n",
       "    <tr style=\"text-align: right;\">\n",
       "      <th></th>\n",
       "      <th>granularity</th>\n",
       "      <th>depth</th>\n",
       "      <th>hand_strength</th>\n",
       "      <th>intial_bet</th>\n",
       "      <th>bet_after_check</th>\n",
       "    </tr>\n",
       "  </thead>\n",
       "  <tbody>\n",
       "    <tr>\n",
       "      <th>0</th>\n",
       "      <td>3</td>\n",
       "      <td>2</td>\n",
       "      <td>1</td>\n",
       "      <td>0.171929</td>\n",
       "      <td>0.639959</td>\n",
       "    </tr>\n",
       "    <tr>\n",
       "      <th>1</th>\n",
       "      <td>3</td>\n",
       "      <td>2</td>\n",
       "      <td>2</td>\n",
       "      <td>0.137909</td>\n",
       "      <td>0.092438</td>\n",
       "    </tr>\n",
       "    <tr>\n",
       "      <th>2</th>\n",
       "      <td>3</td>\n",
       "      <td>2</td>\n",
       "      <td>3</td>\n",
       "      <td>0.350222</td>\n",
       "      <td>0.986831</td>\n",
       "    </tr>\n",
       "  </tbody>\n",
       "</table>\n",
       "</div>"
      ],
      "text/plain": [
       "   granularity  depth  hand_strength  intial_bet  bet_after_check\n",
       "0            3      2              1    0.171929         0.639959\n",
       "1            3      2              2    0.137909         0.092438\n",
       "2            3      2              3    0.350222         0.986831"
      ]
     },
     "execution_count": 53,
     "metadata": {},
     "output_type": "execute_result"
    }
   ],
   "source": [
    "results_df.head(3)"
   ]
  },
  {
   "cell_type": "code",
   "execution_count": 54,
   "metadata": {},
   "outputs": [],
   "source": [
    "results_df.to_csv(\"output/agression_by_granularity_and_depth.csv\", index = False)"
   ]
  }
 ],
 "metadata": {
  "kernelspec": {
   "display_name": "Python 3 (ipykernel)",
   "language": "python",
   "name": "python3"
  },
  "language_info": {
   "codemirror_mode": {
    "name": "ipython",
    "version": 3
   },
   "file_extension": ".py",
   "mimetype": "text/x-python",
   "name": "python",
   "nbconvert_exporter": "python",
   "pygments_lexer": "ipython3",
   "version": "3.9.13"
  },
  "toc": {
   "base_numbering": 1,
   "nav_menu": {},
   "number_sections": true,
   "sideBar": true,
   "skip_h1_title": false,
   "title_cell": "Table of Contents",
   "title_sidebar": "Contents",
   "toc_cell": false,
   "toc_position": {
    "height": "calc(100% - 180px)",
    "left": "10px",
    "top": "150px",
    "width": "294.4px"
   },
   "toc_section_display": true,
   "toc_window_display": true
  }
 },
 "nbformat": 4,
 "nbformat_minor": 2
}
