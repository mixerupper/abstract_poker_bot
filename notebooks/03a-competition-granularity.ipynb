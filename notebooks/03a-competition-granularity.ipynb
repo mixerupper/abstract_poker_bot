{
 "cells": [
  {
   "cell_type": "code",
   "execution_count": 1,
   "metadata": {},
   "outputs": [],
   "source": [
    "import sys\n",
    "sys.path.append(\"..\")\n",
    "import pickle"
   ]
  },
  {
   "cell_type": "code",
   "execution_count": 2,
   "metadata": {},
   "outputs": [],
   "source": [
    "from games.abstract_poker import AbstractPokerRootChanceGameState\n",
    "from games.algorithms import ChanceSamplingCFR, VanillaCFR\n",
    "from common.constants import card_dealing, results_map\n",
    "import numpy as np\n",
    "import pandas as pd\n",
    "\n",
    "from games.competition_abstract_poker import CompetitionAbstractPoker\n",
    "from copy import deepcopy"
   ]
  },
  {
   "cell_type": "code",
   "execution_count": 3,
   "metadata": {},
   "outputs": [],
   "source": [
    "# Hyperparameters\n",
    "_NUM_TRAIN_ITERS = 100_000\n",
    "_COMPETITION_ROUNDS = 100_000\n",
    "_RUN_SINGLE_EXAMPLE = False"
   ]
  },
  {
   "cell_type": "markdown",
   "metadata": {},
   "source": [
    "# Try single example"
   ]
  },
  {
   "cell_type": "code",
   "execution_count": 4,
   "metadata": {},
   "outputs": [],
   "source": [
    "if _RUN_SINGLE_EXAMPLE:\n",
    "    bots = []\n",
    "\n",
    "    root = AbstractPokerRootChanceGameState(max_hand_strength = 3, \n",
    "                                        max_turns = 1,\n",
    "                                        report = False)\n",
    "    chance_sampling_cfr = ChanceSamplingCFR(root)\n",
    "    chance_sampling_cfr.run(iterations = 100)\n",
    "    chance_sampling_cfr.compute_nash_equilibrium()\n",
    "\n",
    "    bots.append(chance_sampling_cfr)\n",
    "\n",
    "    root = AbstractPokerRootChanceGameState(max_hand_strength = 3, \n",
    "                                        max_turns = 2,\n",
    "                                        report = False)\n",
    "    chance_sampling_cfr = ChanceSamplingCFR(root)\n",
    "    chance_sampling_cfr.run(iterations = 100)\n",
    "    chance_sampling_cfr.compute_nash_equilibrium()\n",
    "\n",
    "    bots.append(chance_sampling_cfr)\n",
    "\n",
    "    results = []\n",
    "    rounds_per_competition = 1\n",
    "\n",
    "    c = CompetitionAbstractPoker(deepcopy(bots[0]), deepcopy(bots[1]), max_turns = 2, report = True)\n",
    "    result = c.compete(rounds = rounds_per_competition)\n",
    "    print(f\"Result is {result}\")"
   ]
  },
  {
   "cell_type": "markdown",
   "metadata": {},
   "source": [
    "# Granularity competition"
   ]
  },
  {
   "cell_type": "code",
   "execution_count": 5,
   "metadata": {},
   "outputs": [],
   "source": [
    "def train_bots_fixed_depth(granularity, depth, report = True):\n",
    "    bots = []\n",
    "\n",
    "    for i in granularity:\n",
    "        root = AbstractPokerRootChanceGameState(max_hand_strength = i, \n",
    "                                            max_turns = depth,\n",
    "                                            report = False)\n",
    "        chance_sampling_cfr = ChanceSamplingCFR(root)\n",
    "        chance_sampling_cfr.run(iterations = _NUM_TRAIN_ITERS)\n",
    "        chance_sampling_cfr.compute_nash_equilibrium()\n",
    "\n",
    "        # vanilla cfr\n",
    "        # vanilla_cfr_g3 = VanillaCFR(root)\n",
    "        # vanilla_cfr_g3.run(iterations = _NUM_TRAIN_ITERS)\n",
    "        # vanilla_cfr_g3.compute_nash_equilibrium()\n",
    "\n",
    "        bots.append(chance_sampling_cfr)\n",
    "        \n",
    "    if report:\n",
    "        print(\"------------------------------------------------------------\")\n",
    "        for b in bots:\n",
    "            print(f\"Value of game for granularity {b.root.max_hand_strength}: {b.value_of_the_game():.5f}\")\n",
    "        \n",
    "    return bots"
   ]
  },
  {
   "cell_type": "markdown",
   "metadata": {},
   "source": [
    "## Train static bots"
   ]
  },
  {
   "cell_type": "code",
   "execution_count": 6,
   "metadata": {},
   "outputs": [
    {
     "name": "stdout",
     "output_type": "stream",
     "text": [
      "------------------------------------------------------------\n",
      "Value of game for granularity 3: -0.02816\n",
      "Value of game for granularity 5: -0.04350\n",
      "Value of game for granularity 7: -0.04882\n",
      "Value of game for granularity 10: -0.05371\n",
      "------------------------------------------------------------\n",
      "Value of game for granularity 3: -0.02248\n",
      "Value of game for granularity 5: -0.03323\n",
      "Value of game for granularity 7: -0.05133\n",
      "Value of game for granularity 10: -0.05386\n"
     ]
    }
   ],
   "source": [
    "static_bots = train_bots_fixed_depth(granularity = [3,5,7,10], depth = 1)\n",
    "dynamic_bots = train_bots_fixed_depth(granularity = [3,5,7,10], depth = 2)"
   ]
  },
  {
   "cell_type": "markdown",
   "metadata": {},
   "source": [
    "## Competition"
   ]
  },
  {
   "cell_type": "code",
   "execution_count": 7,
   "metadata": {},
   "outputs": [],
   "source": [
    "def run_competition(bots, game_depth, rounds, report):\n",
    "    results = []\n",
    "\n",
    "    for b1 in bots:\n",
    "        for b2 in bots:\n",
    "            g1 = b1.root.max_hand_strength\n",
    "            g2 = b2.root.max_hand_strength\n",
    "            c = CompetitionAbstractPoker(deepcopy(b1), deepcopy(b2), max_turns = game_depth, report = False)\n",
    "            result = c.compete(rounds = rounds)\n",
    "            results.append([g1,g2,result])\n",
    "            \n",
    "            if report:\n",
    "                print(f\"{g1} vs {g2}. Result is {result}\")\n",
    "                \n",
    "    return results"
   ]
  },
  {
   "cell_type": "code",
   "execution_count": 8,
   "metadata": {},
   "outputs": [
    {
     "name": "stdout",
     "output_type": "stream",
     "text": [
      "3 vs 3. Result is -0.02192\n",
      "3 vs 5. Result is -0.04238\n",
      "3 vs 7. Result is -0.04907\n",
      "3 vs 10. Result is -0.05726\n",
      "5 vs 3. Result is -0.00804\n",
      "5 vs 5. Result is -0.04073\n",
      "5 vs 7. Result is -0.04661\n",
      "5 vs 10. Result is -0.05783\n",
      "7 vs 3. Result is -0.0152\n",
      "7 vs 5. Result is -0.03968\n",
      "7 vs 7. Result is -0.05683\n",
      "7 vs 10. Result is -0.04929\n",
      "10 vs 3. Result is -0.02779\n",
      "10 vs 5. Result is -0.04585\n",
      "10 vs 7. Result is -0.04705\n",
      "10 vs 10. Result is -0.04861\n"
     ]
    }
   ],
   "source": [
    "static_competition = run_competition(static_bots, game_depth = 1, rounds = _COMPETITION_ROUNDS, report = True)"
   ]
  },
  {
   "cell_type": "code",
   "execution_count": 9,
   "metadata": {},
   "outputs": [
    {
     "name": "stdout",
     "output_type": "stream",
     "text": [
      "3 vs 3. Result is -0.02824\n",
      "3 vs 5. Result is -0.06019\n",
      "3 vs 7. Result is -0.05542\n",
      "3 vs 10. Result is -0.04817\n",
      "5 vs 3. Result is 0.00715\n",
      "5 vs 5. Result is -0.02454\n",
      "5 vs 7. Result is -0.05641\n",
      "5 vs 10. Result is -0.05563\n",
      "7 vs 3. Result is -0.01157\n",
      "7 vs 5. Result is -0.04915\n",
      "7 vs 7. Result is -0.04504\n",
      "7 vs 10. Result is -0.05075\n",
      "10 vs 3. Result is -0.01119\n",
      "10 vs 5. Result is -0.04492\n",
      "10 vs 7. Result is -0.05087\n",
      "10 vs 10. Result is -0.0501\n"
     ]
    }
   ],
   "source": [
    "dynamic_competition = run_competition(dynamic_bots, game_depth = 2, rounds = _COMPETITION_ROUNDS, report = True)"
   ]
  },
  {
   "cell_type": "markdown",
   "metadata": {},
   "source": [
    "# Export results "
   ]
  },
  {
   "cell_type": "code",
   "execution_count": 10,
   "metadata": {},
   "outputs": [],
   "source": [
    "static_df = pd.DataFrame(static_competition, columns = ['player1_granularity', 'player2_granularity', 'result'])\\\n",
    "    .assign(bot_depth = 1,\n",
    "            game_depth = 1)\n",
    "dynamic_df = pd.DataFrame(dynamic_competition, columns = ['player1_granularity', 'player2_granularity', 'result'])\\\n",
    "    .assign(bot_depth = 2,\n",
    "            game_depth = 2)"
   ]
  },
  {
   "cell_type": "code",
   "execution_count": 11,
   "metadata": {},
   "outputs": [],
   "source": [
    "results_df = pd.concat([static_df, dynamic_df], ignore_index = True)"
   ]
  },
  {
   "cell_type": "code",
   "execution_count": 12,
   "metadata": {},
   "outputs": [
    {
     "data": {
      "text/html": [
       "<div>\n",
       "<style scoped>\n",
       "    .dataframe tbody tr th:only-of-type {\n",
       "        vertical-align: middle;\n",
       "    }\n",
       "\n",
       "    .dataframe tbody tr th {\n",
       "        vertical-align: top;\n",
       "    }\n",
       "\n",
       "    .dataframe thead th {\n",
       "        text-align: right;\n",
       "    }\n",
       "</style>\n",
       "<table border=\"1\" class=\"dataframe\">\n",
       "  <thead>\n",
       "    <tr style=\"text-align: right;\">\n",
       "      <th></th>\n",
       "      <th>player1_granularity</th>\n",
       "      <th>player2_granularity</th>\n",
       "      <th>result</th>\n",
       "      <th>bot_depth</th>\n",
       "      <th>game_depth</th>\n",
       "    </tr>\n",
       "  </thead>\n",
       "  <tbody>\n",
       "    <tr>\n",
       "      <th>0</th>\n",
       "      <td>3</td>\n",
       "      <td>3</td>\n",
       "      <td>-0.02192</td>\n",
       "      <td>1</td>\n",
       "      <td>1</td>\n",
       "    </tr>\n",
       "    <tr>\n",
       "      <th>1</th>\n",
       "      <td>3</td>\n",
       "      <td>5</td>\n",
       "      <td>-0.04238</td>\n",
       "      <td>1</td>\n",
       "      <td>1</td>\n",
       "    </tr>\n",
       "    <tr>\n",
       "      <th>2</th>\n",
       "      <td>3</td>\n",
       "      <td>7</td>\n",
       "      <td>-0.04907</td>\n",
       "      <td>1</td>\n",
       "      <td>1</td>\n",
       "    </tr>\n",
       "  </tbody>\n",
       "</table>\n",
       "</div>"
      ],
      "text/plain": [
       "   player1_granularity  player2_granularity   result  bot_depth  game_depth\n",
       "0                    3                    3 -0.02192          1           1\n",
       "1                    3                    5 -0.04238          1           1\n",
       "2                    3                    7 -0.04907          1           1"
      ]
     },
     "execution_count": 12,
     "metadata": {},
     "output_type": "execute_result"
    }
   ],
   "source": [
    "results_df.head(3)"
   ]
  },
  {
   "cell_type": "code",
   "execution_count": 14,
   "metadata": {},
   "outputs": [],
   "source": [
    "results_df.to_csv(\"output/bot_competition_by_granularity.csv\", index = False)"
   ]
  }
 ],
 "metadata": {
  "kernelspec": {
   "display_name": "Python 3 (ipykernel)",
   "language": "python",
   "name": "python3"
  },
  "language_info": {
   "codemirror_mode": {
    "name": "ipython",
    "version": 3
   },
   "file_extension": ".py",
   "mimetype": "text/x-python",
   "name": "python",
   "nbconvert_exporter": "python",
   "pygments_lexer": "ipython3",
   "version": "3.9.13"
  },
  "toc": {
   "base_numbering": 1,
   "nav_menu": {},
   "number_sections": true,
   "sideBar": true,
   "skip_h1_title": false,
   "title_cell": "Table of Contents",
   "title_sidebar": "Contents",
   "toc_cell": false,
   "toc_position": {
    "height": "calc(100% - 180px)",
    "left": "10px",
    "top": "150px",
    "width": "294.4px"
   },
   "toc_section_display": true,
   "toc_window_display": true
  }
 },
 "nbformat": 4,
 "nbformat_minor": 2
}
