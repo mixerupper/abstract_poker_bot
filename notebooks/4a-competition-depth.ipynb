{
 "cells": [
  {
   "cell_type": "code",
   "execution_count": 1,
   "metadata": {},
   "outputs": [],
   "source": [
    "import sys\n",
    "sys.path.append(\"..\")\n",
    "import pickle"
   ]
  },
  {
   "cell_type": "code",
   "execution_count": 2,
   "metadata": {},
   "outputs": [],
   "source": [
    "from games.abstract_poker import AbstractPokerRootChanceGameState\n",
    "from games.algorithms import ChanceSamplingCFR, VanillaCFR\n",
    "from common.constants import card_dealing, results_map\n",
    "import numpy as np\n",
    "import pandas as pd\n",
    "\n",
    "from games.competition_abstract_poker import CompetitionAbstractPoker\n",
    "from copy import deepcopy"
   ]
  },
  {
   "cell_type": "code",
   "execution_count": 3,
   "metadata": {},
   "outputs": [],
   "source": [
    "# Hyperparameters\n",
    "_NUM_TRAIN_ITERS = 100_000\n",
    "_COMPETITION_ROUNDS = 100_000\n",
    "_RUN_SINGLE_EXAMPLE = False"
   ]
  },
  {
   "cell_type": "markdown",
   "metadata": {},
   "source": [
    "# Try single example"
   ]
  },
  {
   "cell_type": "code",
   "execution_count": 4,
   "metadata": {},
   "outputs": [],
   "source": [
    "if _RUN_SINGLE_EXAMPLE:\n",
    "    bots = []\n",
    "\n",
    "    root = AbstractPokerRootChanceGameState(max_hand_strength = 3, \n",
    "                                        max_turns = 1,\n",
    "                                        report = False)\n",
    "    chance_sampling_cfr = ChanceSamplingCFR(root)\n",
    "    chance_sampling_cfr.run(iterations = 100)\n",
    "    chance_sampling_cfr.compute_nash_equilibrium()\n",
    "\n",
    "    bots.append(chance_sampling_cfr)\n",
    "\n",
    "    root = AbstractPokerRootChanceGameState(max_hand_strength = 3, \n",
    "                                        max_turns = 2,\n",
    "                                        report = False)\n",
    "    chance_sampling_cfr = ChanceSamplingCFR(root)\n",
    "    chance_sampling_cfr.run(iterations = 100)\n",
    "    chance_sampling_cfr.compute_nash_equilibrium()\n",
    "\n",
    "    bots.append(chance_sampling_cfr)\n",
    "\n",
    "    results = []\n",
    "    rounds_per_competition = 1\n",
    "\n",
    "    c = CompetitionAbstractPoker(deepcopy(bots[0]), deepcopy(bots[1]), max_turns = 2, report = True)\n",
    "    result = c.compete(rounds = rounds_per_competition)\n",
    "    print(f\"Result is {result}\")"
   ]
  },
  {
   "cell_type": "markdown",
   "metadata": {},
   "source": [
    "# Granularity competition"
   ]
  },
  {
   "cell_type": "code",
   "execution_count": 5,
   "metadata": {},
   "outputs": [],
   "source": [
    "def train_bots_fixed_granularity(depth,  granularity, report = True):\n",
    "    bots = []\n",
    "\n",
    "    for i in depth:\n",
    "        root = AbstractPokerRootChanceGameState(max_hand_strength = granularity, \n",
    "                                            max_turns = i,\n",
    "                                            report = False)\n",
    "        chance_sampling_cfr = ChanceSamplingCFR(root)\n",
    "        chance_sampling_cfr.run(iterations = _NUM_TRAIN_ITERS)\n",
    "        chance_sampling_cfr.compute_nash_equilibrium()\n",
    "\n",
    "        # vanilla cfr\n",
    "        # vanilla_cfr_g3 = VanillaCFR(root)\n",
    "        # vanilla_cfr_g3.run(iterations = _NUM_TRAIN_ITERS)\n",
    "        # vanilla_cfr_g3.compute_nash_equilibrium()\n",
    "\n",
    "        bots.append(chance_sampling_cfr)\n",
    "        \n",
    "    if report:\n",
    "        print(\"------------------------------------------------------------\")\n",
    "        for b in bots:\n",
    "            print(f\"Value of game for depth {b.root.max_turns}: {b.value_of_the_game():.5f}\")\n",
    "        \n",
    "    return bots"
   ]
  },
  {
   "cell_type": "markdown",
   "metadata": {},
   "source": [
    "## Train static bots"
   ]
  },
  {
   "cell_type": "code",
   "execution_count": 6,
   "metadata": {},
   "outputs": [
    {
     "name": "stdout",
     "output_type": "stream",
     "text": [
      "------------------------------------------------------------\n",
      "Value of game for depth 1: -0.02801\n",
      "Value of game for depth 2: -0.02192\n",
      "Value of game for depth 3: -0.02534\n",
      "Value of game for depth 4: -0.02622\n",
      "------------------------------------------------------------\n",
      "Value of game for depth 1: -0.05296\n",
      "Value of game for depth 2: -0.05229\n",
      "Value of game for depth 3: -0.04946\n",
      "Value of game for depth 4: -0.04677\n"
     ]
    }
   ],
   "source": [
    "low_granularity_bots = train_bots_fixed_granularity(depth = [1,2,3,4], granularity = 3)\n",
    "high_granularity_bots = train_bots_fixed_granularity(depth = [1,2,3,4], granularity = 10)"
   ]
  },
  {
   "cell_type": "code",
   "execution_count": 7,
   "metadata": {},
   "outputs": [],
   "source": [
    "# low_granularity_bots = train_bots_fixed_granularity(depth = [1,2], granularity = 3)\n",
    "# high_granularity_bots = train_bots_fixed_granularity(depth = [1,2], granularity = 10)"
   ]
  },
  {
   "cell_type": "markdown",
   "metadata": {},
   "source": [
    "## Competition"
   ]
  },
  {
   "cell_type": "code",
   "execution_count": 8,
   "metadata": {},
   "outputs": [],
   "source": [
    "def run_competition(bots, rounds, report):\n",
    "    results = []\n",
    "\n",
    "    for b1 in bots:\n",
    "        for b2 in bots:\n",
    "            g1 = b1.root.max_hand_strength\n",
    "            g2 = b2.root.max_hand_strength\n",
    "            \n",
    "            d1 = b1.root.max_turns\n",
    "            d2 = b2.root.max_turns\n",
    "            game_depth = max(d1,d2)\n",
    "            \n",
    "            c = CompetitionAbstractPoker(deepcopy(b1), deepcopy(b2), max_turns = game_depth, report = False)\n",
    "            result = c.compete(rounds = rounds)\n",
    "            results.append([g1,g2,d1,d2,game_depth,result])\n",
    "            \n",
    "            if report:\n",
    "                print(f\"{d1} vs {d2}. Game depth {game_depth} Result is {result}\")\n",
    "                \n",
    "    return results"
   ]
  },
  {
   "cell_type": "code",
   "execution_count": 9,
   "metadata": {},
   "outputs": [
    {
     "name": "stdout",
     "output_type": "stream",
     "text": [
      "1 vs 1. Game depth 1 Result is -0.0306\n",
      "1 vs 2. Game depth 2 Result is -0.03629\n",
      "1 vs 3. Game depth 3 Result is -0.04433\n",
      "1 vs 4. Game depth 4 Result is -0.07081\n",
      "2 vs 1. Game depth 2 Result is -0.02667\n",
      "2 vs 2. Game depth 2 Result is -0.02328\n",
      "2 vs 3. Game depth 3 Result is -0.0269\n",
      "2 vs 4. Game depth 4 Result is -0.04342\n",
      "3 vs 1. Game depth 3 Result is -0.01171\n",
      "3 vs 2. Game depth 3 Result is -0.01706\n",
      "3 vs 3. Game depth 3 Result is -0.0302\n",
      "3 vs 4. Game depth 4 Result is -0.01951\n",
      "4 vs 1. Game depth 4 Result is -0.00739\n",
      "4 vs 2. Game depth 4 Result is -0.02077\n",
      "4 vs 3. Game depth 4 Result is -0.005\n",
      "4 vs 4. Game depth 4 Result is -0.02326\n"
     ]
    }
   ],
   "source": [
    "low_granularity_competition = run_competition(low_granularity_bots, rounds = _COMPETITION_ROUNDS, report = True)"
   ]
  },
  {
   "cell_type": "code",
   "execution_count": 10,
   "metadata": {},
   "outputs": [
    {
     "name": "stdout",
     "output_type": "stream",
     "text": [
      "1 vs 1. Game depth 1 Result is -0.05816\n",
      "1 vs 2. Game depth 2 Result is -0.08096\n",
      "1 vs 3. Game depth 3 Result is -0.09037\n",
      "1 vs 4. Game depth 4 Result is -0.12396\n",
      "2 vs 1. Game depth 2 Result is -0.02658\n",
      "2 vs 2. Game depth 2 Result is -0.05303\n",
      "2 vs 3. Game depth 3 Result is -0.07742\n",
      "2 vs 4. Game depth 4 Result is -0.08104\n",
      "3 vs 1. Game depth 3 Result is 0.00646\n",
      "3 vs 2. Game depth 3 Result is -0.03428\n",
      "3 vs 3. Game depth 3 Result is -0.03355\n",
      "3 vs 4. Game depth 4 Result is -0.05277\n",
      "4 vs 1. Game depth 4 Result is 0.02551\n",
      "4 vs 2. Game depth 4 Result is 0.00168\n",
      "4 vs 3. Game depth 4 Result is -0.05341\n",
      "4 vs 4. Game depth 4 Result is -0.04713\n"
     ]
    }
   ],
   "source": [
    "high_granularity_competition = run_competition(high_granularity_bots, rounds = _COMPETITION_ROUNDS, report = True)"
   ]
  },
  {
   "cell_type": "markdown",
   "metadata": {},
   "source": [
    "# Export results "
   ]
  },
  {
   "cell_type": "code",
   "execution_count": 11,
   "metadata": {},
   "outputs": [],
   "source": [
    "low_granularity_df = pd.DataFrame(low_granularity_competition, columns = ['player1_granularity', 'player2_granularity', \n",
    "                                                                          'player1_depth', 'player2_depth',\n",
    "                                                                          'game_depth', 'result'])\n",
    "high_granularity_df = pd.DataFrame(high_granularity_competition, columns = ['player1_granularity', 'player2_granularity', \n",
    "                                                          'player1_depth', 'player2_depth',\n",
    "                                                          'game_depth', 'result'])"
   ]
  },
  {
   "cell_type": "code",
   "execution_count": 12,
   "metadata": {},
   "outputs": [],
   "source": [
    "results_df = pd.concat([low_granularity_df, high_granularity_df], ignore_index = True)"
   ]
  },
  {
   "cell_type": "code",
   "execution_count": 13,
   "metadata": {},
   "outputs": [
    {
     "data": {
      "text/html": [
       "<div>\n",
       "<style scoped>\n",
       "    .dataframe tbody tr th:only-of-type {\n",
       "        vertical-align: middle;\n",
       "    }\n",
       "\n",
       "    .dataframe tbody tr th {\n",
       "        vertical-align: top;\n",
       "    }\n",
       "\n",
       "    .dataframe thead th {\n",
       "        text-align: right;\n",
       "    }\n",
       "</style>\n",
       "<table border=\"1\" class=\"dataframe\">\n",
       "  <thead>\n",
       "    <tr style=\"text-align: right;\">\n",
       "      <th></th>\n",
       "      <th>player1_granularity</th>\n",
       "      <th>player2_granularity</th>\n",
       "      <th>player1_depth</th>\n",
       "      <th>player2_depth</th>\n",
       "      <th>game_depth</th>\n",
       "      <th>result</th>\n",
       "    </tr>\n",
       "  </thead>\n",
       "  <tbody>\n",
       "    <tr>\n",
       "      <th>0</th>\n",
       "      <td>3</td>\n",
       "      <td>3</td>\n",
       "      <td>1</td>\n",
       "      <td>1</td>\n",
       "      <td>1</td>\n",
       "      <td>-0.03060</td>\n",
       "    </tr>\n",
       "    <tr>\n",
       "      <th>1</th>\n",
       "      <td>3</td>\n",
       "      <td>3</td>\n",
       "      <td>1</td>\n",
       "      <td>2</td>\n",
       "      <td>2</td>\n",
       "      <td>-0.03629</td>\n",
       "    </tr>\n",
       "    <tr>\n",
       "      <th>2</th>\n",
       "      <td>3</td>\n",
       "      <td>3</td>\n",
       "      <td>1</td>\n",
       "      <td>3</td>\n",
       "      <td>3</td>\n",
       "      <td>-0.04433</td>\n",
       "    </tr>\n",
       "  </tbody>\n",
       "</table>\n",
       "</div>"
      ],
      "text/plain": [
       "   player1_granularity  player2_granularity  player1_depth  player2_depth  \\\n",
       "0                    3                    3              1              1   \n",
       "1                    3                    3              1              2   \n",
       "2                    3                    3              1              3   \n",
       "\n",
       "   game_depth   result  \n",
       "0           1 -0.03060  \n",
       "1           2 -0.03629  \n",
       "2           3 -0.04433  "
      ]
     },
     "execution_count": 13,
     "metadata": {},
     "output_type": "execute_result"
    }
   ],
   "source": [
    "results_df.head(3)"
   ]
  },
  {
   "cell_type": "code",
   "execution_count": 14,
   "metadata": {},
   "outputs": [],
   "source": [
    "results_df.to_csv(\"output/bot_competition_by_depth.csv\", index = False)"
   ]
  }
 ],
 "metadata": {
  "kernelspec": {
   "display_name": "Python 3 (ipykernel)",
   "language": "python",
   "name": "python3"
  },
  "language_info": {
   "codemirror_mode": {
    "name": "ipython",
    "version": 3
   },
   "file_extension": ".py",
   "mimetype": "text/x-python",
   "name": "python",
   "nbconvert_exporter": "python",
   "pygments_lexer": "ipython3",
   "version": "3.9.13"
  },
  "toc": {
   "base_numbering": 1,
   "nav_menu": {},
   "number_sections": true,
   "sideBar": true,
   "skip_h1_title": false,
   "title_cell": "Table of Contents",
   "title_sidebar": "Contents",
   "toc_cell": false,
   "toc_position": {
    "height": "calc(100% - 180px)",
    "left": "10px",
    "top": "150px",
    "width": "294.4px"
   },
   "toc_section_display": true,
   "toc_window_display": true
  }
 },
 "nbformat": 4,
 "nbformat_minor": 2
}
