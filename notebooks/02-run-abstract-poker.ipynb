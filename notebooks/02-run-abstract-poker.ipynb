{
 "cells": [
  {
   "cell_type": "code",
   "execution_count": 16,
   "metadata": {},
   "outputs": [],
   "source": [
    "import sys\n",
    "sys.path.append(\"..\") "
   ]
  },
  {
   "cell_type": "code",
   "execution_count": 17,
   "metadata": {},
   "outputs": [],
   "source": [
    "from games.abstract_poker import AbstractPokerRootChanceGameState\n",
    "from games.algorithms import ChanceSamplingCFR, VanillaCFR\n",
    "from common.constants import card_dealing, results_map"
   ]
  },
  {
   "cell_type": "code",
   "execution_count": 21,
   "metadata": {},
   "outputs": [],
   "source": [
    "# Hyperparameters\n",
    "_MAX_HAND_STRENGTH = 10\n",
    "_NUM_TRAIN_ITERS = 1000"
   ]
  },
  {
   "cell_type": "code",
   "execution_count": 23,
   "metadata": {},
   "outputs": [],
   "source": [
    "# card_dealing(_MAX_HAND_STRENGTH)"
   ]
  },
  {
   "cell_type": "code",
   "execution_count": 24,
   "metadata": {},
   "outputs": [],
   "source": [
    "root = AbstractPokerRootChanceGameState(card_dealing(_MAX_HAND_STRENGTH), report = False)\n",
    "chance_sampling_cfr = ChanceSamplingCFR(root)\n",
    "chance_sampling_cfr.run(iterations = _NUM_TRAIN_ITERS)\n",
    "chance_sampling_cfr.compute_nash_equilibrium()\n",
    "\n",
    "# vanilla cfr\n",
    "vanilla_cfr = VanillaCFR(root)\n",
    "vanilla_cfr.run(iterations = _NUM_TRAIN_ITERS)\n",
    "vanilla_cfr.compute_nash_equilibrium()\n"
   ]
  },
  {
   "cell_type": "code",
   "execution_count": 25,
   "metadata": {},
   "outputs": [
    {
     "name": "stdout",
     "output_type": "stream",
     "text": [
      "Value of game under Vanilla from -1/18: -0.00531\n",
      "Value of game under Chance Sampling from -1/18: -0.01181\n",
      "Difference of value of game under Vanilla from -1/18: -0.00531\n",
      "Difference of value of game under Chance Sampling from -1/18: -0.01181\n"
     ]
    }
   ],
   "source": [
    "print(f\"Value of game under Vanilla from -1/18: {vanilla_cfr.value_of_the_game() - (-1/18):.5f}\")\n",
    "print(f\"Value of game under Chance Sampling from -1/18: {chance_sampling_cfr.value_of_the_game() - (-1/18):.5f}\")\n",
    "print(f\"Difference of value of game under Vanilla from -1/18: {vanilla_cfr.value_of_the_game() - (-1/18):.5f}\")\n",
    "print(f\"Difference of value of game under Chance Sampling from -1/18: {chance_sampling_cfr.value_of_the_game() - (-1/18):.5f}\")"
   ]
  },
  {
   "cell_type": "code",
   "execution_count": null,
   "metadata": {},
   "outputs": [],
   "source": []
  }
 ],
 "metadata": {
  "kernelspec": {
   "display_name": "Python 3 (ipykernel)",
   "language": "python",
   "name": "python3"
  },
  "language_info": {
   "codemirror_mode": {
    "name": "ipython",
    "version": 3
   },
   "file_extension": ".py",
   "mimetype": "text/x-python",
   "name": "python",
   "nbconvert_exporter": "python",
   "pygments_lexer": "ipython3",
   "version": "3.9.13"
  },
  "toc": {
   "base_numbering": 1,
   "nav_menu": {},
   "number_sections": true,
   "sideBar": true,
   "skip_h1_title": false,
   "title_cell": "Table of Contents",
   "title_sidebar": "Contents",
   "toc_cell": false,
   "toc_position": {},
   "toc_section_display": true,
   "toc_window_display": true
  }
 },
 "nbformat": 4,
 "nbformat_minor": 2
}
