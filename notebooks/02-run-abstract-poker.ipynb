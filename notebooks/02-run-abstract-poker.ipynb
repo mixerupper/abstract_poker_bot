{
 "cells": [
  {
   "cell_type": "code",
   "execution_count": 1,
   "metadata": {},
   "outputs": [],
   "source": [
    "import sys\n",
    "sys.path.append(\"..\")\n",
    "import pickle"
   ]
  },
  {
   "cell_type": "code",
   "execution_count": 2,
   "metadata": {},
   "outputs": [],
   "source": [
    "from games.abstract_poker import AbstractPokerRootChanceGameState\n",
    "from games.algorithms import ChanceSamplingCFR, VanillaCFR\n",
    "from common.constants import card_dealing, results_map\n",
    "import numpy as np\n",
    "import pandas as pd"
   ]
  },
  {
   "cell_type": "code",
   "execution_count": 3,
   "metadata": {},
   "outputs": [],
   "source": [
    "# Hyperparameters\n",
    "# _MAX_HAND_STRENGTH = 3\n",
    "_MAX_TURNS = 2\n",
    "_NUM_TRAIN_ITERS = 50_000\n",
    "_ANTE_SIZE = 1"
   ]
  },
  {
   "cell_type": "code",
   "execution_count": 4,
   "metadata": {},
   "outputs": [],
   "source": [
    "# card_dealing(_MAX_HAND_STRENGTH)"
   ]
  },
  {
   "cell_type": "markdown",
   "metadata": {},
   "source": [
    "# Train"
   ]
  },
  {
   "cell_type": "code",
   "execution_count": 7,
   "metadata": {},
   "outputs": [],
   "source": [
    "root = AbstractPokerRootChanceGameState(max_hand_strength = 5,\n",
    "                                    max_turns = 1,\n",
    "                                    report = False)\n",
    "chance_sampling_cfr = ChanceSamplingCFR(root)\n",
    "chance_sampling_cfr.run(iterations = _NUM_TRAIN_ITERS)\n",
    "chance_sampling_cfr.compute_nash_equilibrium()\n",
    "\n",
    "    # vanilla cfr\n",
    "#     vanilla_cfr_g3 = VanillaCFR(root)\n",
    "#     vanilla_cfr_g3.run(iterations = _NUM_TRAIN_ITERS)\n",
    "#     vanilla_cfr_g3.compute_nash_equilibrium()"
   ]
  },
  {
   "cell_type": "code",
   "execution_count": 9,
   "metadata": {},
   "outputs": [
    {
     "data": {
      "text/plain": [
       "{'.': {'1.1': 0.04,\n",
       "  '1.2': 0.04,\n",
       "  '1.3': 0.04,\n",
       "  '1.4': 0.04,\n",
       "  '1.5': 0.04,\n",
       "  '2.1': 0.04,\n",
       "  '2.2': 0.04,\n",
       "  '2.3': 0.04,\n",
       "  '2.4': 0.04,\n",
       "  '2.5': 0.04,\n",
       "  '3.1': 0.04,\n",
       "  '3.2': 0.04,\n",
       "  '3.3': 0.04,\n",
       "  '3.4': 0.04,\n",
       "  '3.5': 0.04,\n",
       "  '4.1': 0.04,\n",
       "  '4.2': 0.04,\n",
       "  '4.3': 0.04,\n",
       "  '4.4': 0.04,\n",
       "  '4.5': 0.04,\n",
       "  '5.1': 0.04,\n",
       "  '5.2': 0.04,\n",
       "  '5.3': 0.04,\n",
       "  '5.4': 0.04,\n",
       "  '5.5': 0.04},\n",
       " '.1.': {'BET': 0.5350212408535175, 'CHECK_INITIATE': 0.4649787591464824},\n",
       " '.1.BET': {'CALL': 5.0510152540660675e-05, 'FOLD': 0.9999494898474593},\n",
       " '.1.BET.CALL': {},\n",
       " '.1.BET.FOLD': {},\n",
       " '.1.CHECK_INITIATE': {'BET': 0.8521532117176216,\n",
       "  'CHECK_RESPONSE': 0.14784678828237838},\n",
       " '.1.CHECK_INITIATE.BET': {'CALL': 5.3286319966621155e-05,\n",
       "  'FOLD': 0.9999467136800334},\n",
       " '.1.CHECK_INITIATE.BET.CALL': {},\n",
       " '.1.CHECK_INITIATE.BET.FOLD': {},\n",
       " '.1.CHECK_INITIATE.CHECK_RESPONSE': {},\n",
       " '.2.BET': {'CALL': 0.5301658701454145, 'FOLD': 0.4698341298545854},\n",
       " '.2.CHECK_INITIATE': {'BET': 0.005458991490191002,\n",
       "  'CHECK_RESPONSE': 0.994541008509809},\n",
       " '.2.CHECK_INITIATE.BET.CALL': {},\n",
       " '.2.CHECK_INITIATE.BET.FOLD': {},\n",
       " '.3.BET': {'CALL': 0.7536062835731064, 'FOLD': 0.24639371642689353},\n",
       " '.3.CHECK_INITIATE': {'BET': 0.42447423526696465,\n",
       "  'CHECK_RESPONSE': 0.5755257647330354},\n",
       " '.3.CHECK_INITIATE.BET.CALL': {},\n",
       " '.3.CHECK_INITIATE.BET.FOLD': {},\n",
       " '.4.BET': {'CALL': 0.9999503179650239, 'FOLD': 4.9682034976152626e-05},\n",
       " '.4.CHECK_INITIATE': {'BET': 0.9999503179650239,\n",
       "  'CHECK_RESPONSE': 4.9682034976152626e-05},\n",
       " '.4.CHECK_INITIATE.BET.CALL': {},\n",
       " '.4.CHECK_INITIATE.BET.FOLD': {},\n",
       " '.5.BET': {'CALL': 0.9999496576721708, 'FOLD': 5.0342327829238826e-05},\n",
       " '.5.CHECK_INITIATE': {'BET': 0.999798630688683,\n",
       "  'CHECK_RESPONSE': 0.0002013693113169553},\n",
       " '.5.CHECK_INITIATE.BET.CALL': {},\n",
       " '.5.CHECK_INITIATE.BET.FOLD': {},\n",
       " '.2.': {'BET': 0.003719688525817256, 'CHECK_INITIATE': 0.9962803114741828},\n",
       " '.2.BET.CALL': {},\n",
       " '.2.BET.FOLD': {},\n",
       " '.2.CHECK_INITIATE.BET': {'CALL': 0.3520512127031797,\n",
       "  'FOLD': 0.6479487872968204},\n",
       " '.2.CHECK_INITIATE.CHECK_RESPONSE': {},\n",
       " '.3.': {'BET': 0.0008587496815115494, 'CHECK_INITIATE': 0.9991412503184884},\n",
       " '.3.BET.CALL': {},\n",
       " '.3.BET.FOLD': {},\n",
       " '.3.CHECK_INITIATE.BET': {'CALL': 0.9976475780707712,\n",
       "  'FOLD': 0.0023524219292286905},\n",
       " '.3.CHECK_INITIATE.CHECK_RESPONSE': {},\n",
       " '.4.': {'BET': 0.893589892305907, 'CHECK_INITIATE': 0.10641010769409298},\n",
       " '.4.BET.CALL': {},\n",
       " '.4.BET.FOLD': {},\n",
       " '.4.CHECK_INITIATE.BET': {'CALL': 0.9997637368389157,\n",
       "  'FOLD': 0.00023626316108427714},\n",
       " '.4.CHECK_INITIATE.CHECK_RESPONSE': {},\n",
       " '.5.': {'BET': 0.7162160818367234, 'CHECK_INITIATE': 0.28378391816327664},\n",
       " '.5.BET.CALL': {},\n",
       " '.5.BET.FOLD': {},\n",
       " '.5.CHECK_INITIATE.BET': {'CALL': 0.9999122732559453,\n",
       "  'FOLD': 8.77267440546899e-05},\n",
       " '.5.CHECK_INITIATE.CHECK_RESPONSE': {}}"
      ]
     },
     "execution_count": 9,
     "metadata": {},
     "output_type": "execute_result"
    }
   ],
   "source": [
    "chance_sampling_cfr.nash_equilibrium"
   ]
  },
  {
   "cell_type": "code",
   "execution_count": 11,
   "metadata": {},
   "outputs": [],
   "source": [
    "t = [[1,2],[3,4]]"
   ]
  },
  {
   "cell_type": "code",
   "execution_count": 16,
   "metadata": {},
   "outputs": [
    {
     "data": {
      "text/plain": [
       "array([1, 2, 3, 4])"
      ]
     },
     "execution_count": 16,
     "metadata": {},
     "output_type": "execute_result"
    }
   ],
   "source": [
    "np.concatenate(t[-4:])"
   ]
  }
 ],
 "metadata": {
  "kernelspec": {
   "display_name": "Python 3 (ipykernel)",
   "language": "python",
   "name": "python3"
  },
  "language_info": {
   "codemirror_mode": {
    "name": "ipython",
    "version": 3
   },
   "file_extension": ".py",
   "mimetype": "text/x-python",
   "name": "python",
   "nbconvert_exporter": "python",
   "pygments_lexer": "ipython3",
   "version": "3.9.13"
  },
  "toc": {
   "base_numbering": 1,
   "nav_menu": {},
   "number_sections": true,
   "sideBar": true,
   "skip_h1_title": false,
   "title_cell": "Table of Contents",
   "title_sidebar": "Contents",
   "toc_cell": false,
   "toc_position": {},
   "toc_section_display": true,
   "toc_window_display": true
  }
 },
 "nbformat": 4,
 "nbformat_minor": 2
}
