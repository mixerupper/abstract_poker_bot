{
 "cells": [
  {
   "cell_type": "code",
   "execution_count": 1,
   "metadata": {},
   "outputs": [],
   "source": [
    "import sys\n",
    "sys.path.append(\"..\")\n",
    "import pickle"
   ]
  },
  {
   "cell_type": "code",
   "execution_count": 2,
   "metadata": {},
   "outputs": [],
   "source": [
    "from games.abstract_poker import AbstractPokerRootChanceGameState\n",
    "from games.algorithms import ChanceSamplingCFR, VanillaCFR\n",
    "from common.constants import card_dealing, results_map"
   ]
  },
  {
   "cell_type": "code",
   "execution_count": 3,
   "metadata": {},
   "outputs": [],
   "source": [
    "# Hyperparameters\n",
    "_MAX_HAND_STRENGTH = 5\n",
    "_NUM_TRAIN_ITERS = 1000"
   ]
  },
  {
   "cell_type": "code",
   "execution_count": 4,
   "metadata": {},
   "outputs": [],
   "source": [
    "# card_dealing(_MAX_HAND_STRENGTH)"
   ]
  },
  {
   "cell_type": "code",
   "execution_count": 5,
   "metadata": {},
   "outputs": [],
   "source": [
    "root = AbstractPokerRootChanceGameState(card_dealing(_MAX_HAND_STRENGTH), report = False)\n",
    "chance_sampling_cfr = ChanceSamplingCFR(root)\n",
    "chance_sampling_cfr.run(iterations = _NUM_TRAIN_ITERS)\n",
    "chance_sampling_cfr.compute_nash_equilibrium()\n",
    "\n",
    "# vanilla cfr\n",
    "vanilla_cfr = VanillaCFR(root)\n",
    "vanilla_cfr.run(iterations = _NUM_TRAIN_ITERS)\n",
    "vanilla_cfr.compute_nash_equilibrium()\n"
   ]
  },
  {
   "cell_type": "code",
   "execution_count": 9,
   "metadata": {},
   "outputs": [
    {
     "name": "stdout",
     "output_type": "stream",
     "text": [
      "Value of game under Vanilla: 0.06547\n",
      "Value of game under Chance Sampling: 0.06533\n",
      "Difference of value of game under Vanilla from -1/18: 0.12103\n",
      "Difference of value of game under Chance Sampling from -1/18: 0.12088\n"
     ]
    }
   ],
   "source": [
    "print(f\"Value of game under Vanilla: {vanilla_cfr.value_of_the_game():.5f}\")\n",
    "print(f\"Value of game under Chance Sampling: {chance_sampling_cfr.value_of_the_game():.5f}\")\n",
    "print(f\"Difference of value of game under Vanilla from -1/18: {vanilla_cfr.value_of_the_game() - (-1/18):.5f}\")\n",
    "print(f\"Difference of value of game under Chance Sampling from -1/18: {chance_sampling_cfr.value_of_the_game() - (-1/18):.5f}\")"
   ]
  },
  {
   "cell_type": "code",
   "execution_count": 10,
   "metadata": {},
   "outputs": [
    {
     "data": {
      "text/plain": [
       "{'.': {'1.2': 0.05,\n",
       "  '1.3': 0.05,\n",
       "  '1.4': 0.05,\n",
       "  '1.5': 0.05,\n",
       "  '2.1': 0.05,\n",
       "  '2.3': 0.05,\n",
       "  '2.4': 0.05,\n",
       "  '2.5': 0.05,\n",
       "  '3.1': 0.05,\n",
       "  '3.2': 0.05,\n",
       "  '3.4': 0.05,\n",
       "  '3.5': 0.05,\n",
       "  '4.1': 0.05,\n",
       "  '4.2': 0.05,\n",
       "  '4.3': 0.05,\n",
       "  '4.5': 0.05,\n",
       "  '5.1': 0.05,\n",
       "  '5.2': 0.05,\n",
       "  '5.3': 0.05,\n",
       "  '5.4': 0.05},\n",
       " '.1.': {'BET': 0.002, 'CHECK': 0.998},\n",
       " '.2.BET': {'FOLD': 0.9985, 'CALL': 0.0015},\n",
       " '.1.BET.FOLD': {},\n",
       " '.1.BET.CALL': {},\n",
       " '.2.CHECK': {'BET': 0.015258790361822141, 'CHECK': 0.9847412096381779},\n",
       " '.1.CHECK.BET': {'CALL': 0.000250501002004008, 'FOLD': 0.999749498997996},\n",
       " '.2.CHECK.BET.CALL': {},\n",
       " '.2.CHECK.BET.FOLD': {},\n",
       " '.1.CHECK.CHECK': {'BET': 0.6438962824957247, 'CHECK': 0.35610371750427533},\n",
       " '.2.CHECK.CHECK.BET': {'CALL': 0.43028131453371765,\n",
       "  'FOLD': 0.5697186854662823},\n",
       " '.1.CHECK.CHECK.BET.CALL': {},\n",
       " '.1.CHECK.CHECK.BET.FOLD': {},\n",
       " '.2.CHECK.CHECK.CHECK': {},\n",
       " '.3.BET': {'FOLD': 0.0005, 'CALL': 0.9995},\n",
       " '.3.CHECK': {'BET': 0.003960452448446446, 'CHECK': 0.9960395475515536},\n",
       " '.3.CHECK.BET.CALL': {},\n",
       " '.3.CHECK.BET.FOLD': {},\n",
       " '.3.CHECK.CHECK.BET': {'CALL': 0.6040994243323767,\n",
       "  'FOLD': 0.39590057566762327},\n",
       " '.3.CHECK.CHECK.CHECK': {},\n",
       " '.4.BET': {'FOLD': 0.0005, 'CALL': 0.9995},\n",
       " '.4.CHECK': {'BET': 0.6083504532094158, 'CHECK': 0.3916495467905841},\n",
       " '.4.CHECK.BET.CALL': {},\n",
       " '.4.CHECK.BET.FOLD': {},\n",
       " '.4.CHECK.CHECK.BET': {'CALL': 0.9993616742262346,\n",
       "  'FOLD': 0.0006383257737654819},\n",
       " '.4.CHECK.CHECK.CHECK': {},\n",
       " '.5.BET': {'FOLD': 0.0005, 'CALL': 0.9995},\n",
       " '.5.CHECK': {'BET': 0.6083504532094158, 'CHECK': 0.3916495467905841},\n",
       " '.5.CHECK.BET.CALL': {},\n",
       " '.5.CHECK.BET.FOLD': {},\n",
       " '.5.CHECK.CHECK.BET': {'CALL': 0.9993616742262346,\n",
       "  'FOLD': 0.0006383257737654819},\n",
       " '.5.CHECK.CHECK.CHECK': {},\n",
       " '.2.': {'BET': 0.0037829189019380413, 'CHECK': 0.996217081098062},\n",
       " '.1.BET': {'FOLD': 0.9995, 'CALL': 0.0005},\n",
       " '.2.BET.FOLD': {},\n",
       " '.2.BET.CALL': {},\n",
       " '.1.CHECK': {'BET': 0.38850982988740895, 'CHECK': 0.6114901701125911},\n",
       " '.2.CHECK.BET': {'CALL': 0.21306462383679076, 'FOLD': 0.7869353761632093},\n",
       " '.1.CHECK.BET.CALL': {},\n",
       " '.1.CHECK.BET.FOLD': {},\n",
       " '.2.CHECK.CHECK': {'BET': 0.004095279731867118, 'CHECK': 0.9959047202681328},\n",
       " '.1.CHECK.CHECK.BET': {'CALL': 0.00040883731614846554,\n",
       "  'FOLD': 0.9995911626838515},\n",
       " '.2.CHECK.CHECK.BET.CALL': {},\n",
       " '.2.CHECK.CHECK.BET.FOLD': {},\n",
       " '.1.CHECK.CHECK.CHECK': {},\n",
       " '.3.': {'BET': 0.0027333333333333337, 'CHECK': 0.9972666666666666},\n",
       " '.3.BET.FOLD': {},\n",
       " '.3.BET.CALL': {},\n",
       " '.3.CHECK.BET': {'CALL': 0.49880473701516503, 'FOLD': 0.501195262984835},\n",
       " '.3.CHECK.CHECK': {'BET': 0.002604430604943835, 'CHECK': 0.9973955693950561},\n",
       " '.3.CHECK.CHECK.BET.CALL': {},\n",
       " '.3.CHECK.CHECK.BET.FOLD': {},\n",
       " '.4.': {'BET': 0.007696976733935845, 'CHECK': 0.9923030232660642},\n",
       " '.4.BET.FOLD': {},\n",
       " '.4.BET.CALL': {},\n",
       " '.4.CHECK.BET': {'CALL': 0.9997480608300707, 'FOLD': 0.00025193916992931304},\n",
       " '.4.CHECK.CHECK': {'BET': 0.9997480608300707,\n",
       "  'CHECK': 0.00025193916992931304},\n",
       " '.4.CHECK.CHECK.BET.CALL': {},\n",
       " '.4.CHECK.CHECK.BET.FOLD': {},\n",
       " '.5.': {'BET': 0.007696976733935845, 'CHECK': 0.9923030232660642},\n",
       " '.5.BET.FOLD': {},\n",
       " '.5.BET.CALL': {},\n",
       " '.5.CHECK.BET': {'CALL': 0.9997480608300707, 'FOLD': 0.00025193916992931304},\n",
       " '.5.CHECK.CHECK': {'BET': 0.9997480608300707,\n",
       "  'CHECK': 0.00025193916992931304},\n",
       " '.5.CHECK.CHECK.BET.CALL': {},\n",
       " '.5.CHECK.CHECK.BET.FOLD': {}}"
      ]
     },
     "execution_count": 10,
     "metadata": {},
     "output_type": "execute_result"
    }
   ],
   "source": [
    "vanilla_cfr.nash_equilibrium"
   ]
  }
 ],
 "metadata": {
  "kernelspec": {
   "display_name": "Python 3 (ipykernel)",
   "language": "python",
   "name": "python3"
  },
  "language_info": {
   "codemirror_mode": {
    "name": "ipython",
    "version": 3
   },
   "file_extension": ".py",
   "mimetype": "text/x-python",
   "name": "python",
   "nbconvert_exporter": "python",
   "pygments_lexer": "ipython3",
   "version": "3.9.13"
  },
  "toc": {
   "base_numbering": 1,
   "nav_menu": {},
   "number_sections": true,
   "sideBar": true,
   "skip_h1_title": false,
   "title_cell": "Table of Contents",
   "title_sidebar": "Contents",
   "toc_cell": false,
   "toc_position": {},
   "toc_section_display": true,
   "toc_window_display": true
  }
 },
 "nbformat": 4,
 "nbformat_minor": 2
}
