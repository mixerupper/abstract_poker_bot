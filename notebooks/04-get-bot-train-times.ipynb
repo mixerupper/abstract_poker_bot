{
 "cells": [
  {
   "cell_type": "code",
   "execution_count": 1,
   "metadata": {},
   "outputs": [],
   "source": [
    "import sys\n",
    "sys.path.append(\"..\")\n",
    "import pickle"
   ]
  },
  {
   "cell_type": "code",
   "execution_count": 2,
   "metadata": {},
   "outputs": [],
   "source": [
    "from games.abstract_poker import AbstractPokerRootChanceGameState\n",
    "from games.algorithms import ChanceSamplingCFR, VanillaCFR\n",
    "from common.constants import card_dealing, results_map\n",
    "import numpy as np\n",
    "import pandas as pd"
   ]
  },
  {
   "cell_type": "code",
   "execution_count": 3,
   "metadata": {},
   "outputs": [],
   "source": [
    "# Hyperparameters\n",
    "# _MAX_HAND_STRENGTH = 3\n",
    "_MAX_TURNS = 2\n",
    "_NUM_TRAIN_ITERS = 50_000"
   ]
  },
  {
   "cell_type": "code",
   "execution_count": 4,
   "metadata": {},
   "outputs": [],
   "source": [
    "# card_dealing(_MAX_HAND_STRENGTH)"
   ]
  },
  {
   "cell_type": "markdown",
   "metadata": {},
   "source": [
    "# Train"
   ]
  },
  {
   "cell_type": "code",
   "execution_count": 5,
   "metadata": {},
   "outputs": [],
   "source": [
    "bots = []\n",
    "\n",
    "for i in range(2,11):\n",
    "    root = AbstractPokerRootChanceGameState(max_hand_strength = i, \n",
    "                                        max_turns = _MAX_TURNS,\n",
    "                                        report = False)\n",
    "    chance_sampling_cfr = ChanceSamplingCFR(root)\n",
    "    chance_sampling_cfr.run(iterations = _NUM_TRAIN_ITERS)\n",
    "    chance_sampling_cfr.compute_nash_equilibrium()\n",
    "\n",
    "    # vanilla cfr\n",
    "#     vanilla_cfr_g3 = VanillaCFR(root)\n",
    "#     vanilla_cfr_g3.run(iterations = _NUM_TRAIN_ITERS)\n",
    "#     vanilla_cfr_g3.compute_nash_equilibrium()\n",
    "\n",
    "    bots.append(chance_sampling_cfr)"
   ]
  },
  {
   "cell_type": "code",
   "execution_count": 80,
   "metadata": {},
   "outputs": [
    {
     "name": "stdout",
     "output_type": "stream",
     "text": [
      "Value of game for granularity 2: -0.00022\n",
      "Value of game for granularity 3: -0.02202\n",
      "Value of game for granularity 4: -0.04648\n",
      "Value of game for granularity 5: -0.03589\n",
      "Value of game for granularity 6: -0.04565\n",
      "Value of game for granularity 7: -0.05528\n",
      "Value of game for granularity 8: -0.04921\n",
      "Value of game for granularity 9: -0.05261\n",
      "Value of game for granularity 10: -0.05370\n"
     ]
    }
   ],
   "source": [
    "for b in bots:\n",
    "    print(f\"Value of game for granularity {b.root.max_hand_strength}: {b.value_of_the_game():.5f}\")"
   ]
  },
  {
   "cell_type": "markdown",
   "metadata": {},
   "source": [
    "# Export"
   ]
  },
  {
   "cell_type": "code",
   "execution_count": null,
   "metadata": {},
   "outputs": [],
   "source": [
    "results_df = pd.DataFrame(results, columns = ['player1', 'player2', 'result'])\\\n",
    "    .assign(total_rounds = rounds_per_competition)"
   ]
  },
  {
   "cell_type": "code",
   "execution_count": null,
   "metadata": {},
   "outputs": [],
   "source": [
    "results_df.to_csv(\"bot_training_time_by_granularity.csv\")"
   ]
  }
 ],
 "metadata": {
  "kernelspec": {
   "display_name": "Python 3 (ipykernel)",
   "language": "python",
   "name": "python3"
  },
  "language_info": {
   "codemirror_mode": {
    "name": "ipython",
    "version": 3
   },
   "file_extension": ".py",
   "mimetype": "text/x-python",
   "name": "python",
   "nbconvert_exporter": "python",
   "pygments_lexer": "ipython3",
   "version": "3.9.13"
  },
  "toc": {
   "base_numbering": 1,
   "nav_menu": {},
   "number_sections": true,
   "sideBar": true,
   "skip_h1_title": false,
   "title_cell": "Table of Contents",
   "title_sidebar": "Contents",
   "toc_cell": false,
   "toc_position": {},
   "toc_section_display": true,
   "toc_window_display": true
  }
 },
 "nbformat": 4,
 "nbformat_minor": 2
}
