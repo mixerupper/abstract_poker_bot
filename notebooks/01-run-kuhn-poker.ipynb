{
 "cells": [
  {
   "cell_type": "code",
   "execution_count": 1,
   "metadata": {},
   "outputs": [],
   "source": [
    "import sys\n",
    "sys.path.append(\"..\") "
   ]
  },
  {
   "cell_type": "code",
   "execution_count": 2,
   "metadata": {},
   "outputs": [],
   "source": [
    "from common.constants import CARDS_DEALINGS\n",
    "from games.kuhn import KuhnRootChanceGameState\n",
    "from games.algorithms import ChanceSamplingCFR, VanillaCFR"
   ]
  },
  {
   "cell_type": "code",
   "execution_count": 3,
   "metadata": {},
   "outputs": [],
   "source": [
    "# Hyperparameters\n",
    "_NUM_ITERS = 1000"
   ]
  },
  {
   "cell_type": "code",
   "execution_count": 4,
   "metadata": {},
   "outputs": [],
   "source": [
    "root = KuhnRootChanceGameState(CARDS_DEALINGS, report = False)\n",
    "chance_sampling_cfr = ChanceSamplingCFR(root)\n",
    "chance_sampling_cfr.run(iterations = _NUM_ITERS)\n",
    "chance_sampling_cfr.compute_nash_equilibrium()\n",
    "# read Nash-Equilibrum via chance_sampling_cfr.nash_equilibrium member\n",
    "# try chance_sampling_cfr.value_of_the_game() function to get value of the game (-1/18)\n",
    "\n",
    "# vanilla cfr\n",
    "vanilla_cfr = VanillaCFR(root)\n",
    "vanilla_cfr.run(iterations = _NUM_ITERS)\n",
    "vanilla_cfr.compute_nash_equilibrium()"
   ]
  },
  {
   "cell_type": "code",
   "execution_count": 5,
   "metadata": {},
   "outputs": [
    {
     "data": {
      "text/plain": [
       "{'.': {'KQ': 0.16666666666666666,\n",
       "  'KJ': 0.16666666666666666,\n",
       "  'QK': 0.16666666666666666,\n",
       "  'QJ': 0.16666666666666666,\n",
       "  'JK': 0.16666666666666666,\n",
       "  'JQ': 0.16666666666666666},\n",
       " '.K.': {'BET': 0.5984729442242733, 'CHECK': 0.40152705577572667},\n",
       " '.Q.BET': {'FOLD': 0.6312096928634152, 'CALL': 0.3687903071365848},\n",
       " '.K.BET.FOLD': {},\n",
       " '.K.BET.CALL': {},\n",
       " '.Q.CHECK': {'BET': 0.0037727272727272726, 'CHECK': 0.9962272727272727},\n",
       " '.K.CHECK.BET': {'CALL': 0.9993773769503104, 'FOLD': 0.0006226230496896771},\n",
       " '.Q.CHECK.BET.CALL': {},\n",
       " '.Q.CHECK.BET.FOLD': {},\n",
       " '.K.CHECK.CHECK': {},\n",
       " '.J.BET': {'FOLD': 0.9995, 'CALL': 0.0005},\n",
       " '.J.CHECK': {'BET': 0.32768883386016573, 'CHECK': 0.6723111661398343},\n",
       " '.J.CHECK.BET.CALL': {},\n",
       " '.J.CHECK.BET.FOLD': {},\n",
       " '.Q.': {'BET': 0.0034583333333333332, 'CHECK': 0.9965416666666667},\n",
       " '.K.BET': {'FOLD': 0.0005, 'CALL': 0.9995},\n",
       " '.Q.BET.FOLD': {},\n",
       " '.Q.BET.CALL': {},\n",
       " '.K.CHECK': {'BET': 0.9995, 'CHECK': 0.0005},\n",
       " '.Q.CHECK.BET': {'CALL': 0.5680283375978771, 'FOLD': 0.431971662402123},\n",
       " '.K.CHECK.BET.CALL': {},\n",
       " '.K.CHECK.BET.FOLD': {},\n",
       " '.Q.CHECK.CHECK': {},\n",
       " '.J.': {'BET': 0.20100867105688633, 'CHECK': 0.7989913289431138},\n",
       " '.J.BET.FOLD': {},\n",
       " '.J.BET.CALL': {},\n",
       " '.J.CHECK.BET': {'CALL': 0.0003128945095445453, 'FOLD': 0.9996871054904555},\n",
       " '.J.CHECK.CHECK': {}}"
      ]
     },
     "execution_count": 5,
     "metadata": {},
     "output_type": "execute_result"
    }
   ],
   "source": [
    "vanilla_cfr.nash_equilibrium"
   ]
  },
  {
   "cell_type": "code",
   "execution_count": 6,
   "metadata": {},
   "outputs": [
    {
     "name": "stdout",
     "output_type": "stream",
     "text": [
      "Difference of value of game in Vanilla from -1/18: -0.00000\n",
      "Difference of value of game in Chance Sampling from -1/18: -0.00204\n"
     ]
    }
   ],
   "source": [
    "# read Nash-Equilibrum via vanilla_cfr.nash_equilibrium member\n",
    "# try vanilla_cfr.value_of_the_game() function to get value of the game (-1/18)\n",
    "print(f\"Difference of value of game in Vanilla from -1/18: {vanilla_cfr.value_of_the_game() - (-1/18):.5f}\")\n",
    "print(f\"Difference of value of game in Chance Sampling from -1/18: {chance_sampling_cfr.value_of_the_game() - (-1/18):.5f}\")"
   ]
  },
  {
   "cell_type": "code",
   "execution_count": null,
   "metadata": {},
   "outputs": [],
   "source": []
  }
 ],
 "metadata": {
  "kernelspec": {
   "display_name": "Python 3 (ipykernel)",
   "language": "python",
   "name": "python3"
  },
  "language_info": {
   "codemirror_mode": {
    "name": "ipython",
    "version": 3
   },
   "file_extension": ".py",
   "mimetype": "text/x-python",
   "name": "python",
   "nbconvert_exporter": "python",
   "pygments_lexer": "ipython3",
   "version": "3.9.13"
  },
  "toc": {
   "base_numbering": 1,
   "nav_menu": {},
   "number_sections": true,
   "sideBar": true,
   "skip_h1_title": false,
   "title_cell": "Table of Contents",
   "title_sidebar": "Contents",
   "toc_cell": false,
   "toc_position": {},
   "toc_section_display": true,
   "toc_window_display": true
  }
 },
 "nbformat": 4,
 "nbformat_minor": 2
}
