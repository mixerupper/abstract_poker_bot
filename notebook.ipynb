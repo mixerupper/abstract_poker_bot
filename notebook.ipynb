{
 "cells": [
  {
   "cell_type": "markdown",
   "metadata": {},
   "source": [
    "## [Class] Homework [#]\n",
    "\n",
    "Andrew Yeh <br>\n",
    "ay1626"
   ]
  },
  {
   "cell_type": "code",
   "execution_count": 6,
   "metadata": {},
   "outputs": [],
   "source": [
    "from common.constants import CARDS_DEALINGS\n",
    "from games.kuhn import KuhnRootChanceGameState\n",
    "from games.algorithms import ChanceSamplingCFR, VanillaCFR\n",
    "\n",
    "\n",
    "root = KuhnRootChanceGameState(CARDS_DEALINGS)\n",
    "chance_sampling_cfr = ChanceSamplingCFR(root)\n",
    "chance_sampling_cfr.run(iterations = 10000)\n",
    "chance_sampling_cfr.compute_nash_equilibrium()\n",
    "# read Nash-Equilibrum via chance_sampling_cfr.nash_equilibrium member\n",
    "# try chance_sampling_cfr.value_of_the_game() function to get value of the game (-1/18)\n",
    "\n",
    "# vanilla cfr\n",
    "vanilla_cfr = VanillaCFR(root)\n",
    "vanilla_cfr.run(iterations = 1000)\n",
    "vanilla_cfr.compute_nash_equilibrium()\n",
    "\n",
    "# read Nash-Equilibrum via vanilla_cfr.nash_equilibrium member\n",
    "# try vanilla_cfr.value_of_the_game() function to get value of the game (-1/18)"
   ]
  },
  {
   "cell_type": "code",
   "execution_count": 7,
   "metadata": {},
   "outputs": [
    {
     "name": "stdout",
     "output_type": "stream",
     "text": [
      "Difference of value of game from -1/18: -0.00000\n"
     ]
    }
   ],
   "source": [
    "print(f\"Difference of value of game from -1/18: {vanilla_cfr.value_of_the_game() - (-1/18):.5f}\")"
   ]
  },
  {
   "cell_type": "code",
   "execution_count": 8,
   "metadata": {},
   "outputs": [
    {
     "name": "stdout",
     "output_type": "stream",
     "text": [
      "Difference of value of game from -1/18: -0.00031\n"
     ]
    }
   ],
   "source": [
    "print(f\"Difference of value of game from -1/18: {chance_sampling_cfr.value_of_the_game() - (-1/18):.5f}\")"
   ]
  }
 ],
 "metadata": {
  "kernelspec": {
   "display_name": "Python 3 (ipykernel)",
   "language": "python",
   "name": "python3"
  },
  "language_info": {
   "codemirror_mode": {
    "name": "ipython",
    "version": 3
   },
   "file_extension": ".py",
   "mimetype": "text/x-python",
   "name": "python",
   "nbconvert_exporter": "python",
   "pygments_lexer": "ipython3",
   "version": "3.9.13"
  },
  "toc": {
   "base_numbering": 1,
   "nav_menu": {},
   "number_sections": true,
   "sideBar": true,
   "skip_h1_title": false,
   "title_cell": "Table of Contents",
   "title_sidebar": "Contents",
   "toc_cell": false,
   "toc_position": {},
   "toc_section_display": true,
   "toc_window_display": true
  }
 },
 "nbformat": 4,
 "nbformat_minor": 2
}
